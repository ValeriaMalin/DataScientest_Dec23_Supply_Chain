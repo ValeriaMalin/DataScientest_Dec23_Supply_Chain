{
 "cells": [
  {
   "cell_type": "markdown",
   "id": "6bfefc81",
   "metadata": {},
   "source": [
    "## We  consider the problem of sentiment analysis as multiclass, we shoud keep in mind the imbalance of the dataset as well"
   ]
  },
  {
   "cell_type": "code",
   "execution_count": 7,
   "id": "99687313",
   "metadata": {},
   "outputs": [],
   "source": [
    "#importing necessary libaries \n",
    "\n",
    "import pandas as pd\n",
    "import matplotlib.pyplot as plt\n",
    "import numpy as np\n",
    "import seaborn as sns\n",
    "\n",
    "\n",
    "from sklearn.model_selection import train_test_split\n",
    "from sklearn.feature_extraction.text import CountVectorizer\n",
    "from sklearn.feature_extraction.text import TfidfVectorizer\n",
    "from sklearn.tree import DecisionTreeClassifier\n",
    "from sklearn.metrics import classification_report\n",
    "from sklearn.metrics import accuracy_score\n",
    "from sklearn.ensemble import GradientBoostingClassifier\n",
    "from sklearn.linear_model import LogisticRegression\n",
    "from sklearn.model_selection import GridSearchCV\n",
    "from sklearn.svm import SVC\n",
    "from sklearn import ensemble\n",
    "from imblearn.over_sampling import RandomOverSampler, SMOTE\n",
    "from imblearn.under_sampling import RandomUnderSampler\n",
    "from imblearn.metrics import classification_report_imbalanced\n",
    "import xgboost as xgb\n",
    "from sklearn.model_selection import train_test_split\n",
    "\n",
    "\n",
    "%matplotlib inline \n"
   ]
  },
  {
   "cell_type": "code",
   "execution_count": 8,
   "id": "b94ca0f6",
   "metadata": {},
   "outputs": [
    {
     "name": "stdout",
     "output_type": "stream",
     "text": [
      "2.0.3\n"
     ]
    }
   ],
   "source": [
    "print(xgb.__version__)\n"
   ]
  },
  {
   "cell_type": "code",
   "execution_count": 9,
   "id": "3cbb51cc",
   "metadata": {},
   "outputs": [
    {
     "data": {
      "text/html": [
       "<div>\n",
       "<style scoped>\n",
       "    .dataframe tbody tr th:only-of-type {\n",
       "        vertical-align: middle;\n",
       "    }\n",
       "\n",
       "    .dataframe tbody tr th {\n",
       "        vertical-align: top;\n",
       "    }\n",
       "\n",
       "    .dataframe thead th {\n",
       "        text-align: right;\n",
       "    }\n",
       "</style>\n",
       "<table border=\"1\" class=\"dataframe\">\n",
       "  <thead>\n",
       "    <tr style=\"text-align: right;\">\n",
       "      <th></th>\n",
       "      <th>Product Name</th>\n",
       "      <th>Brand Name</th>\n",
       "      <th>Price</th>\n",
       "      <th>Stars</th>\n",
       "      <th>Text</th>\n",
       "      <th>Review Votes</th>\n",
       "      <th>AverageRating</th>\n",
       "      <th>ReviewsNumber</th>\n",
       "      <th>Sentiment</th>\n",
       "      <th>Review length</th>\n",
       "      <th>Word count</th>\n",
       "      <th>emoji</th>\n",
       "    </tr>\n",
       "  </thead>\n",
       "  <tbody>\n",
       "    <tr>\n",
       "      <th>0</th>\n",
       "      <td>\"CLEAR CLEAN ESN\" Sprint EPIC 4G Galaxy SPH-D7...</td>\n",
       "      <td>SAMSUNG</td>\n",
       "      <td>199.99</td>\n",
       "      <td>5</td>\n",
       "      <td>feel lucky found used phone us used hard phone...</td>\n",
       "      <td>1.0</td>\n",
       "      <td>3.702703</td>\n",
       "      <td>37</td>\n",
       "      <td>Positive</td>\n",
       "      <td>374</td>\n",
       "      <td>72</td>\n",
       "      <td>[]</td>\n",
       "    </tr>\n",
       "    <tr>\n",
       "      <th>1</th>\n",
       "      <td>\"CLEAR CLEAN ESN\" Sprint EPIC 4G Galaxy SPH-D7...</td>\n",
       "      <td>SAMSUNG</td>\n",
       "      <td>199.99</td>\n",
       "      <td>4</td>\n",
       "      <td>nice phone nice grade pantach revue clean set ...</td>\n",
       "      <td>0.0</td>\n",
       "      <td>3.702703</td>\n",
       "      <td>37</td>\n",
       "      <td>Positive</td>\n",
       "      <td>214</td>\n",
       "      <td>40</td>\n",
       "      <td>[]</td>\n",
       "    </tr>\n",
       "    <tr>\n",
       "      <th>2</th>\n",
       "      <td>\"CLEAR CLEAN ESN\" Sprint EPIC 4G Galaxy SPH-D7...</td>\n",
       "      <td>SAMSUNG</td>\n",
       "      <td>199.99</td>\n",
       "      <td>5</td>\n",
       "      <td>pleased</td>\n",
       "      <td>0.0</td>\n",
       "      <td>3.702703</td>\n",
       "      <td>37</td>\n",
       "      <td>Positive</td>\n",
       "      <td>12</td>\n",
       "      <td>2</td>\n",
       "      <td>[]</td>\n",
       "    </tr>\n",
       "    <tr>\n",
       "      <th>3</th>\n",
       "      <td>\"CLEAR CLEAN ESN\" Sprint EPIC 4G Galaxy SPH-D7...</td>\n",
       "      <td>SAMSUNG</td>\n",
       "      <td>199.99</td>\n",
       "      <td>4</td>\n",
       "      <td>works good goes slow sometimes good phone love</td>\n",
       "      <td>0.0</td>\n",
       "      <td>3.702703</td>\n",
       "      <td>37</td>\n",
       "      <td>Positive</td>\n",
       "      <td>76</td>\n",
       "      <td>17</td>\n",
       "      <td>[]</td>\n",
       "    </tr>\n",
       "    <tr>\n",
       "      <th>4</th>\n",
       "      <td>\"CLEAR CLEAN ESN\" Sprint EPIC 4G Galaxy SPH-D7...</td>\n",
       "      <td>SAMSUNG</td>\n",
       "      <td>199.99</td>\n",
       "      <td>4</td>\n",
       "      <td>great phone replace lost phone thing volume bu...</td>\n",
       "      <td>0.0</td>\n",
       "      <td>3.702703</td>\n",
       "      <td>37</td>\n",
       "      <td>Positive</td>\n",
       "      <td>223</td>\n",
       "      <td>43</td>\n",
       "      <td>[]</td>\n",
       "    </tr>\n",
       "  </tbody>\n",
       "</table>\n",
       "</div>"
      ],
      "text/plain": [
       "                                        Product Name Brand Name   Price  \\\n",
       "0  \"CLEAR CLEAN ESN\" Sprint EPIC 4G Galaxy SPH-D7...    SAMSUNG  199.99   \n",
       "1  \"CLEAR CLEAN ESN\" Sprint EPIC 4G Galaxy SPH-D7...    SAMSUNG  199.99   \n",
       "2  \"CLEAR CLEAN ESN\" Sprint EPIC 4G Galaxy SPH-D7...    SAMSUNG  199.99   \n",
       "3  \"CLEAR CLEAN ESN\" Sprint EPIC 4G Galaxy SPH-D7...    SAMSUNG  199.99   \n",
       "4  \"CLEAR CLEAN ESN\" Sprint EPIC 4G Galaxy SPH-D7...    SAMSUNG  199.99   \n",
       "\n",
       "   Stars                                               Text  Review Votes  \\\n",
       "0      5  feel lucky found used phone us used hard phone...           1.0   \n",
       "1      4  nice phone nice grade pantach revue clean set ...           0.0   \n",
       "2      5                                            pleased           0.0   \n",
       "3      4     works good goes slow sometimes good phone love           0.0   \n",
       "4      4  great phone replace lost phone thing volume bu...           0.0   \n",
       "\n",
       "   AverageRating  ReviewsNumber Sentiment  Review length  Word count emoji  \n",
       "0       3.702703             37  Positive            374          72    []  \n",
       "1       3.702703             37  Positive            214          40    []  \n",
       "2       3.702703             37  Positive             12           2    []  \n",
       "3       3.702703             37  Positive             76          17    []  \n",
       "4       3.702703             37  Positive            223          43    []  "
      ]
     },
     "execution_count": 9,
     "metadata": {},
     "output_type": "execute_result"
    }
   ],
   "source": [
    "df=pd.read_csv(\"supply_chain_text_prep_06_06.csv\", sep=',')\n",
    "df.head()"
   ]
  },
  {
   "cell_type": "code",
   "execution_count": 10,
   "id": "821af76c",
   "metadata": {},
   "outputs": [
    {
     "data": {
      "text/plain": [
       "Product Name        0\n",
       "Brand Name          0\n",
       "Price            4974\n",
       "Stars               0\n",
       "Text              745\n",
       "Review Votes        0\n",
       "AverageRating       0\n",
       "ReviewsNumber       0\n",
       "Sentiment           0\n",
       "Review length       0\n",
       "Word count          0\n",
       "emoji               0\n",
       "dtype: int64"
      ]
     },
     "execution_count": 10,
     "metadata": {},
     "output_type": "execute_result"
    }
   ],
   "source": [
    "df.isna().sum()"
   ]
  },
  {
   "cell_type": "code",
   "execution_count": 11,
   "id": "21e015c3",
   "metadata": {},
   "outputs": [],
   "source": [
    "#we have some NaNs \n",
    "df.dropna(subset = ['Text'], inplace=True)\n",
    "\n",
    "\n",
    "#and I removed them"
   ]
  },
  {
   "cell_type": "markdown",
   "id": "9ea9bd26",
   "metadata": {},
   "source": [
    "# Decision Tree with CountVectorized Object"
   ]
  },
  {
   "cell_type": "code",
   "execution_count": 12,
   "id": "cff1fe89",
   "metadata": {},
   "outputs": [],
   "source": [
    "#split the dataset for the training and testing set\n",
    "#the text were vectorized with Count Vectorizer \n",
    "\n",
    "X, y = np.asarray(df.Text), np.asarray(df.Sentiment)\n",
    "\n",
    "X_train, X_test, y_train, y_test = train_test_split(X, y, test_size= 0.25)\n",
    "\n",
    "\n",
    "vectorizer = CountVectorizer()\n",
    "\n",
    "X_train_vectorized = vectorizer.fit_transform(X_train)\n",
    "\n",
    "X_test_vectorized = vectorizer.transform(X_test)"
   ]
  },
  {
   "cell_type": "code",
   "execution_count": 7,
   "id": "56da9777",
   "metadata": {},
   "outputs": [
    {
     "name": "stdout",
     "output_type": "stream",
     "text": [
      "Classification report of Decision Tree:\n",
      "               precision    recall  f1-score   support\n",
      "\n",
      "    Negative       0.85      0.86      0.85     19388\n",
      "     Neutral       0.59      0.69      0.64      5403\n",
      "    Positive       0.95      0.93      0.94     56723\n",
      "\n",
      "    accuracy                           0.90     81514\n",
      "   macro avg       0.80      0.83      0.81     81514\n",
      "weighted avg       0.90      0.90      0.90     81514\n",
      "\n",
      "Confusion matrix of decision tree:\n",
      "\n"
     ]
    },
    {
     "data": {
      "text/html": [
       "<div>\n",
       "<style scoped>\n",
       "    .dataframe tbody tr th:only-of-type {\n",
       "        vertical-align: middle;\n",
       "    }\n",
       "\n",
       "    .dataframe tbody tr th {\n",
       "        vertical-align: top;\n",
       "    }\n",
       "\n",
       "    .dataframe thead th {\n",
       "        text-align: right;\n",
       "    }\n",
       "</style>\n",
       "<table border=\"1\" class=\"dataframe\">\n",
       "  <thead>\n",
       "    <tr style=\"text-align: right;\">\n",
       "      <th>Predicted sentiment</th>\n",
       "      <th>Negative</th>\n",
       "      <th>Neutral</th>\n",
       "      <th>Positive</th>\n",
       "    </tr>\n",
       "    <tr>\n",
       "      <th>Real sentiment</th>\n",
       "      <th></th>\n",
       "      <th></th>\n",
       "      <th></th>\n",
       "    </tr>\n",
       "  </thead>\n",
       "  <tbody>\n",
       "    <tr>\n",
       "      <th>Negative</th>\n",
       "      <td>16594</td>\n",
       "      <td>693</td>\n",
       "      <td>2144</td>\n",
       "    </tr>\n",
       "    <tr>\n",
       "      <th>Neutral</th>\n",
       "      <td>943</td>\n",
       "      <td>3731</td>\n",
       "      <td>1636</td>\n",
       "    </tr>\n",
       "    <tr>\n",
       "      <th>Positive</th>\n",
       "      <td>1851</td>\n",
       "      <td>979</td>\n",
       "      <td>52943</td>\n",
       "    </tr>\n",
       "  </tbody>\n",
       "</table>\n",
       "</div>"
      ],
      "text/plain": [
       "Predicted sentiment  Negative  Neutral  Positive\n",
       "Real sentiment                                  \n",
       "Negative                16594      693      2144\n",
       "Neutral                   943     3731      1636\n",
       "Positive                 1851      979     52943"
      ]
     },
     "execution_count": 7,
     "metadata": {},
     "output_type": "execute_result"
    }
   ],
   "source": [
    "#instanciation\n",
    "decision_tree = DecisionTreeClassifier()\n",
    "\n",
    "#training the model\n",
    "decision_tree.fit(X_train_vectorized, y_train)\n",
    "\n",
    "#prediction\n",
    "y_pred_decision_tree = decision_tree.predict(X_test_vectorized)\n",
    "\n",
    "\n",
    "\n",
    "\n",
    "#Classification report for Decision Tree\n",
    "print(\"Classification report of Decision Tree:\\n\", classification_report(y_pred_decision_tree, y_test))\n",
    "\n",
    "#Confusion Matrix for DecisionTree\n",
    "confusion_matrix = pd.crosstab(y_test, y_pred_decision_tree, rownames =[\"Real sentiment\"], colnames=[\"Predicted sentiment\"])\n",
    "print(\"Confusion matrix of decision tree:\\n\")\n",
    "confusion_matrix\n",
    "\n",
    "#the neutral column is hard to predict and is doing really bad!"
   ]
  },
  {
   "cell_type": "code",
   "execution_count": 11,
   "id": "72a41b9a",
   "metadata": {},
   "outputs": [
    {
     "name": "stdout",
     "output_type": "stream",
     "text": [
      "The accuracy of decision tree for training set: 0.9912366075079742\n",
      "The accuracy of decision tree for test set: 0.8988394631597026\n"
     ]
    }
   ],
   "source": [
    "y_train_dt=decision_tree.predict(X_train_vectorized)\n",
    "accuracy_train = accuracy_score(y_train, y_train_dt)\n",
    "print ('The accuracy of decision tree for training set:', accuracy_train)\n",
    "y_test_dt=decision_tree.predict(X_test_vectorized)\n",
    "accuracy_test = accuracy_score(y_test, y_test_dt)\n",
    "print('The accuracy of decision tree for test set:', accuracy_test)"
   ]
  },
  {
   "cell_type": "markdown",
   "id": "0e6096e5",
   "metadata": {},
   "source": [
    "# Gradient Boosting"
   ]
  },
  {
   "cell_type": "code",
   "execution_count": 62,
   "id": "008719fd",
   "metadata": {},
   "outputs": [
    {
     "name": "stdout",
     "output_type": "stream",
     "text": [
      "Classification report of Gradient boosting:\n",
      "               precision    recall  f1-score   support\n",
      "\n",
      "    Negative       0.49      0.82      0.61     11624\n",
      "     Neutral       0.02      0.56      0.04       254\n",
      "    Positive       0.98      0.78      0.87     69636\n",
      "\n",
      "    accuracy                           0.79     81514\n",
      "   macro avg       0.50      0.72      0.51     81514\n",
      "weighted avg       0.91      0.79      0.83     81514\n",
      "\n",
      "Confusion matrix of gradient boosting:\n",
      "\n"
     ]
    },
    {
     "data": {
      "text/html": [
       "<div>\n",
       "<style scoped>\n",
       "    .dataframe tbody tr th:only-of-type {\n",
       "        vertical-align: middle;\n",
       "    }\n",
       "\n",
       "    .dataframe tbody tr th {\n",
       "        vertical-align: top;\n",
       "    }\n",
       "\n",
       "    .dataframe thead th {\n",
       "        text-align: right;\n",
       "    }\n",
       "</style>\n",
       "<table border=\"1\" class=\"dataframe\">\n",
       "  <thead>\n",
       "    <tr style=\"text-align: right;\">\n",
       "      <th>Predicted sentiment</th>\n",
       "      <th>Negative</th>\n",
       "      <th>Neutral</th>\n",
       "      <th>Positive</th>\n",
       "    </tr>\n",
       "    <tr>\n",
       "      <th>Real sentiment</th>\n",
       "      <th></th>\n",
       "      <th></th>\n",
       "      <th></th>\n",
       "    </tr>\n",
       "  </thead>\n",
       "  <tbody>\n",
       "    <tr>\n",
       "      <th>Negative</th>\n",
       "      <td>9492</td>\n",
       "      <td>60</td>\n",
       "      <td>10002</td>\n",
       "    </tr>\n",
       "    <tr>\n",
       "      <th>Neutral</th>\n",
       "      <td>1091</td>\n",
       "      <td>143</td>\n",
       "      <td>5152</td>\n",
       "    </tr>\n",
       "    <tr>\n",
       "      <th>Positive</th>\n",
       "      <td>1041</td>\n",
       "      <td>51</td>\n",
       "      <td>54482</td>\n",
       "    </tr>\n",
       "  </tbody>\n",
       "</table>\n",
       "</div>"
      ],
      "text/plain": [
       "Predicted sentiment  Negative  Neutral  Positive\n",
       "Real sentiment                                  \n",
       "Negative                 9492       60     10002\n",
       "Neutral                  1091      143      5152\n",
       "Positive                 1041       51     54482"
      ]
     },
     "execution_count": 62,
     "metadata": {},
     "output_type": "execute_result"
    }
   ],
   "source": [
    "\n",
    "#instanciation\n",
    "gradient_boosting = GradientBoostingClassifier()\n",
    "\n",
    "#training the model\n",
    "gradient_boosting.fit(X_train_vectorized, y_train)\n",
    "\n",
    "#prediction\n",
    "y_pred_gradient_boosting = gradient_boosting.predict(X_test_vectorized)\n",
    "\n",
    "#Classification report for GradientBoosting\n",
    "print(\"Classification report of Gradient boosting:\\n\", classification_report(y_pred_gradient_boosting, y_test))\n",
    "\n",
    "#Confusion Matrix for GradientBoosting\n",
    "confusion_matrix = pd.crosstab(y_test, y_pred_gradient_boosting, rownames =[\"Real sentiment\"], colnames=[\"Predicted sentiment\"])\n",
    "print(\"Confusion matrix of gradient boosting:\\n\")\n",
    "confusion_matrix"
   ]
  },
  {
   "cell_type": "code",
   "execution_count": 63,
   "id": "b6d0d641",
   "metadata": {},
   "outputs": [
    {
     "name": "stdout",
     "output_type": "stream",
     "text": [
      "The accuracy of gradient boosting for training set: 0.7887625746299174\n",
      "The accuracy of gradient boosting for the test set: 0.7865765389994357\n"
     ]
    }
   ],
   "source": [
    "y_train_gradient_boosting=gradient_boosting.predict(X_train_vectorized)\n",
    "accuracy_train = accuracy_score(y_train, y_train_gradient_boosting)\n",
    "print ('The accuracy of gradient boosting for training set:', accuracy_train)\n",
    "y_test_gradient_boosting=gradient_boosting.predict(X_test_vectorized)\n",
    "accuracy_test = accuracy_score(y_test, y_test_gradient_boosting)\n",
    "print('The accuracy of gradient boosting for the test set:', accuracy_test)\n",
    "#most of neutral sentiments recognised as positive, have of negative recognised as positive\n"
   ]
  },
  {
   "cell_type": "markdown",
   "id": "bc627b1e",
   "metadata": {},
   "source": [
    "# Gradient Boosting and Decision Tree with RandomOver Sampler"
   ]
  },
  {
   "cell_type": "code",
   "execution_count": 64,
   "id": "421354bb",
   "metadata": {},
   "outputs": [
    {
     "name": "stdout",
     "output_type": "stream",
     "text": [
      "Sample Classes oversampled : {'Positive': 167155, 'Negative': 167155, 'Neutral': 167155}\n",
      "Classification report of Decision Tree with Resampling:\n",
      "                    pre       rec       spe        f1       geo       iba       sup\n",
      "\n",
      "   Negative       0.84      0.85      0.95      0.84      0.90      0.80     19501\n",
      "    Neutral       0.65      0.54      0.97      0.59      0.72      0.50      7754\n",
      "   Positive       0.92      0.94      0.84      0.93      0.89      0.80     54259\n",
      "\n",
      "avg / total       0.88      0.88      0.88      0.88      0.87      0.77     81514\n",
      "\n",
      "Classification report of Gradient Boosting with Resampling:\n",
      "                    pre       rec       spe        f1       geo       iba       sup\n",
      "\n",
      "   Negative       0.79      0.58      0.93      0.67      0.73      0.52     26676\n",
      "    Neutral       0.49      0.18      0.95      0.26      0.41      0.15     17684\n",
      "   Positive       0.63      0.95      0.54      0.76      0.71      0.53     37154\n",
      "\n",
      "avg / total       0.65      0.66      0.75      0.62      0.65      0.45     81514\n",
      "\n",
      "Confusion matrix of Decision Tree with Resampling:\n",
      " Predicted class  Negative  Neutral  Positive\n",
      "Actual class                                \n",
      "Negative            16498     1236      1820\n",
      "Neutral               916     4173      1297\n",
      "Positive             2087     2345     51142\n",
      "Confusion matrix of Gradient Boosting with Resampling:\n",
      " Predicted class  Negative  Neutral  Positive\n",
      "Actual class                                \n",
      "Negative            15465     3113       976\n",
      "Neutral              2262     3112      1012\n",
      "Positive             8949    11459     35166\n"
     ]
    },
    {
     "data": {
      "image/png": "[encoded data removed]",
      "text/plain": [
       "<Figure size 800x600 with 2 Axes>"
      ]
     },
     "metadata": {},
     "output_type": "display_data"
    },
    {
     "data": {
      "image/png": "[encoded data removed]",
      "text/plain": [
       "<Figure size 800x600 with 2 Axes>"
      ]
     },
     "metadata": {},
     "output_type": "display_data"
    }
   ],
   "source": [
    "\n",
    "# Define the models\n",
    "decision_tree = DecisionTreeClassifier()\n",
    "gradient_boosting = GradientBoostingClassifier()\n",
    "\n",
    "# Define the samplers\n",
    "ros = RandomOverSampler(sampling_strategy='auto', random_state=242)\n",
    "\n",
    "\n",
    "# Apply over- and under sampling separately\n",
    "X_ro, y_ro = ros.fit_resample(X_train_vectorized, y_train)\n",
    "print('Sample Classes oversampled :', dict(pd.Series(y_ro).value_counts()))\n",
    "\n",
    "# Fit the models with resampled data\n",
    "decision_tree.fit(X_ro, y_ro)\n",
    "gradient_boosting.fit(X_ro, y_ro)\n",
    "\n",
    "# Predictions\n",
    "y_pred_decision_tree_resampled = decision_tree.predict(X_test_vectorized)\n",
    "y_pred_gradient_boosting_resampled = gradient_boosting.predict(X_test_vectorized)\n",
    "\n",
    "# Evaluation of the oversampled models\n",
    "print(\"Classification report of Decision Tree with Resampling:\\n\",\n",
    "      classification_report_imbalanced(y_pred_decision_tree_resampled, y_test))\n",
    "print(\"Classification report of Gradient Boosting with Resampling:\\n\",\n",
    "      classification_report_imbalanced(y_pred_gradient_boosting_resampled, y_test))\n",
    "\n",
    "# Confusion Matrix for DecisionTree with Oversampling\n",
    "confusion_matrix_decision_tree_oversampled = pd.crosstab(y_test, y_pred_decision_tree_resampled,\n",
    "                                                       rownames=[\"Actual class\"], colnames=[\"Predicted class\"])\n",
    "print(\"Confusion matrix of Decision Tree with Resampling:\\n\", \n",
    "      confusion_matrix_decision_tree_oversampled)\n",
    "\n",
    "# Confusion Matrix for GradientBoosting with Oversampling\n",
    "confusion_matrix_gradient_boosting_oversampled = pd.crosstab(y_test, y_pred_gradient_boosting_resampled,\n",
    "                                                           rownames=[\"Actual class\"], colnames=[\"Predicted class\"])\n",
    "print(\"Confusion matrix of Gradient Boosting with Resampling:\\n\", \n",
    "      confusion_matrix_gradient_boosting_oversampled)\n",
    "\n",
    "\n",
    "\n",
    "# Plot the heatmap for DecisionTree with Oversampling\n",
    "plt.figure(figsize=(8, 6))\n",
    "sns.heatmap(confusion_matrix_decision_tree_oversampled, annot=True, fmt=\"d\", cmap=\"Blues\")\n",
    "plt.title(\"Confusion Matrix - Decision Tree with Oversampling\")\n",
    "plt.show()\n",
    "\n",
    "# Plot the heatmap for GradientBoosting with Oversampling\n",
    "plt.figure(figsize=(8, 6))\n",
    "sns.heatmap(confusion_matrix_gradient_boosting_oversampled, annot=True, fmt=\"d\", cmap=\"Blues\")\n",
    "plt.title(\"Confusion Matrix - Gradient Boosting with Oversampling\")\n",
    "plt.show()"
   ]
  },
  {
   "cell_type": "code",
   "execution_count": 66,
   "id": "4ad74889",
   "metadata": {},
   "outputs": [
    {
     "name": "stdout",
     "output_type": "stream",
     "text": [
      "The accuracy of gradient boosting for training set: 0.6425373655190293\n",
      "The accuracy of gradient boosting for the test set: 0.6593100571680939\n",
      "The accuracy of decision tree for training set: 0.9794183043682012\n",
      "The accuracy of decision tree for test set: 0.8809897686287018\n"
     ]
    }
   ],
   "source": [
    "y_train_gradient_boosting=gradient_boosting.predict(X_ro)\n",
    "accuracy_train_gb = accuracy_score(y_ro, y_train_gradient_boosting)\n",
    "print ('The accuracy of gradient boosting for training set:', accuracy_train_gb)\n",
    "y_test_gradient_boosting=gradient_boosting.predict(X_test_vectorized)\n",
    "accuracy_test_gb = accuracy_score(y_test, y_test_gradient_boosting)\n",
    "print('The accuracy of gradient boosting for the test set:', accuracy_test_gb)\n",
    "\n",
    "y_train_dt=decision_tree.predict(X_ro)\n",
    "accuracy_train_dt = accuracy_score(y_ro, y_train_dt)\n",
    "print ('The accuracy of decision tree for training set:', accuracy_train_dt)\n",
    "y_test_dt=decision_tree.predict(X_test_vectorized)\n",
    "accuracy_test_dt = accuracy_score(y_test, y_test_dt)\n",
    "print('The accuracy of decision tree for test set:', accuracy_test_dt)\n"
   ]
  },
  {
   "cell_type": "markdown",
   "id": "8eca39e3",
   "metadata": {},
   "source": [
    "# The same with random under sampling"
   ]
  },
  {
   "cell_type": "code",
   "execution_count": 67,
   "id": "351b9b37",
   "metadata": {},
   "outputs": [
    {
     "name": "stdout",
     "output_type": "stream",
     "text": [
      "Sample Classes undersampled : {'Positive': 167155, 'Negative': 167155, 'Neutral': 167155}\n",
      "Classification report of Decision Tree with Resampling:\n",
      "                    pre       rec       spe        f1       geo       iba       sup\n",
      "\n",
      "   Negative       0.84      0.85      0.95      0.85      0.90      0.80     19536\n",
      "    Neutral       0.65      0.54      0.97      0.59      0.72      0.50      7717\n",
      "   Positive       0.92      0.94      0.84      0.93      0.89      0.80     54261\n",
      "\n",
      "avg / total       0.88      0.88      0.88      0.88      0.87      0.77     81514\n",
      "\n",
      "Classification report of Gradient Boosting with Resampling:\n",
      "                    pre       rec       spe        f1       geo       iba       sup\n",
      "\n",
      "   Negative       0.79      0.58      0.93      0.67      0.73      0.52     26678\n",
      "    Neutral       0.49      0.18      0.95      0.26      0.41      0.15     17682\n",
      "   Positive       0.63      0.95      0.54      0.76      0.71      0.53     37154\n",
      "\n",
      "avg / total       0.65      0.66      0.75      0.62      0.65      0.45     81514\n",
      "\n",
      "Confusion matrix of Decision Tree with Resampling:\n",
      " Predicted class  Negative  Neutral  Positive\n",
      "Actual class                                \n",
      "Negative            16523     1188      1843\n",
      "Neutral               911     4157      1318\n",
      "Positive             2102     2372     51100\n",
      "Confusion matrix of Gradient Boosting with Resampling:\n",
      " Predicted class  Negative  Neutral  Positive\n",
      "Actual class                                \n",
      "Negative            15466     3112       976\n",
      "Neutral              2262     3112      1012\n",
      "Positive             8950    11458     35166\n"
     ]
    }
   ],
   "source": [
    "# Define the models\n",
    "decision_tree = DecisionTreeClassifier()\n",
    "gradient_boosting = GradientBoostingClassifier()\n",
    "\n",
    "# Define the samplers\n",
    "rus = RandomUnderSampler(sampling_strategy='auto', random_state=242)\n",
    "\n",
    "\n",
    "# Apply over- and under sampling separately\n",
    "X_ru, y_ru = ros.fit_resample(X_train_vectorized, y_train)\n",
    "print('Sample Classes undersampled :', dict(pd.Series(y_ru).value_counts()))\n",
    "\n",
    "# Fit the models with resampled data\n",
    "decision_tree.fit(X_ru, y_ru)\n",
    "gradient_boosting.fit(X_ru, y_ru)\n",
    "\n",
    "# Predictions\n",
    "y_pred_decision_tree_resampled = decision_tree.predict(X_test_vectorized)\n",
    "y_pred_gradient_boosting_resampled = gradient_boosting.predict(X_test_vectorized)\n",
    "\n",
    "# Evaluation of the oversampled models\n",
    "print(\"Classification report of Decision Tree with Resampling:\\n\",\n",
    "      classification_report_imbalanced(y_pred_decision_tree_resampled, y_test))\n",
    "print(\"Classification report of Gradient Boosting with Resampling:\\n\",\n",
    "      classification_report_imbalanced(y_pred_gradient_boosting_resampled, y_test))\n",
    "\n",
    "# Confusion Matrix for DecisionTree with Oversampling\n",
    "confusion_matrix_decision_tree_oversampled = pd.crosstab(y_test, y_pred_decision_tree_resampled,\n",
    "                                                       rownames=[\"Actual class\"], colnames=[\"Predicted class\"])\n",
    "print(\"Confusion matrix of Decision Tree with Resampling:\\n\", \n",
    "      confusion_matrix_decision_tree_oversampled)\n",
    "\n",
    "# Confusion Matrix for GradientBoosting with Oversampling\n",
    "confusion_matrix_gradient_boosting_oversampled = pd.crosstab(y_test, y_pred_gradient_boosting_resampled,\n",
    "                                                           rownames=[\"Actual class\"], colnames=[\"Predicted class\"])\n",
    "print(\"Confusion matrix of Gradient Boosting with Resampling:\\n\", \n",
    "      confusion_matrix_gradient_boosting_oversampled)\n",
    "\n",
    "\n"
   ]
  },
  {
   "cell_type": "code",
   "execution_count": 68,
   "id": "dd072523",
   "metadata": {},
   "outputs": [
    {
     "name": "stdout",
     "output_type": "stream",
     "text": [
      "The accuracy of gradient boosting for training set: 0.6425373655190293\n",
      "The accuracy of gradient boosting for the test set: 0.6593223249993866\n",
      "The accuracy of decision tree for training set: 0.9794183043682012\n",
      "The accuracy of decision tree for test set: 0.8805849301960399\n"
     ]
    }
   ],
   "source": [
    "y_train_gradient_boosting=gradient_boosting.predict(X_ru)\n",
    "accuracy_train_gb = accuracy_score(y_ru, y_train_gradient_boosting)\n",
    "print ('The accuracy of gradient boosting for training set:', accuracy_train_gb)\n",
    "y_test_gradient_boosting=gradient_boosting.predict(X_test_vectorized)\n",
    "accuracy_test_gb = accuracy_score(y_test, y_test_gradient_boosting)\n",
    "print('The accuracy of gradient boosting for the test set:', accuracy_test_gb)\n",
    "\n",
    "y_train_dt=decision_tree.predict(X_ru)\n",
    "accuracy_train_dt = accuracy_score(y_ru, y_train_dt)\n",
    "print ('The accuracy of decision tree for training set:', accuracy_train_dt)\n",
    "y_test_dt=decision_tree.predict(X_test_vectorized)\n",
    "accuracy_test_dt = accuracy_score(y_test, y_test_dt)\n",
    "print('The accuracy of decision tree for test set:', accuracy_test_dt)\n"
   ]
  },
  {
   "cell_type": "markdown",
   "id": "86275c1b",
   "metadata": {},
   "source": [
    "# Logistic Regression"
   ]
  },
  {
   "cell_type": "code",
   "execution_count": 14,
   "id": "a7f47739",
   "metadata": {},
   "outputs": [
    {
     "data": {
      "text/html": [
       "<div>\n",
       "<style scoped>\n",
       "    .dataframe tbody tr th:only-of-type {\n",
       "        vertical-align: middle;\n",
       "    }\n",
       "\n",
       "    .dataframe tbody tr th {\n",
       "        vertical-align: top;\n",
       "    }\n",
       "\n",
       "    .dataframe thead th {\n",
       "        text-align: right;\n",
       "    }\n",
       "</style>\n",
       "<table border=\"1\" class=\"dataframe\">\n",
       "  <thead>\n",
       "    <tr style=\"text-align: right;\">\n",
       "      <th>Predicted sentiment</th>\n",
       "      <th>Negative</th>\n",
       "      <th>Neutral</th>\n",
       "      <th>Positive</th>\n",
       "    </tr>\n",
       "    <tr>\n",
       "      <th>Real sentiment</th>\n",
       "      <th></th>\n",
       "      <th></th>\n",
       "      <th></th>\n",
       "    </tr>\n",
       "  </thead>\n",
       "  <tbody>\n",
       "    <tr>\n",
       "      <th>Negative</th>\n",
       "      <td>16429</td>\n",
       "      <td>467</td>\n",
       "      <td>2535</td>\n",
       "    </tr>\n",
       "    <tr>\n",
       "      <th>Neutral</th>\n",
       "      <td>1556</td>\n",
       "      <td>2003</td>\n",
       "      <td>2751</td>\n",
       "    </tr>\n",
       "    <tr>\n",
       "      <th>Positive</th>\n",
       "      <td>1307</td>\n",
       "      <td>583</td>\n",
       "      <td>53883</td>\n",
       "    </tr>\n",
       "  </tbody>\n",
       "</table>\n",
       "</div>"
      ],
      "text/plain": [
       "Predicted sentiment  Negative  Neutral  Positive\n",
       "Real sentiment                                  \n",
       "Negative                16429      467      2535\n",
       "Neutral                  1556     2003      2751\n",
       "Positive                 1307      583     53883"
      ]
     },
     "metadata": {},
     "output_type": "display_data"
    },
    {
     "name": "stdout",
     "output_type": "stream",
     "text": [
      "Classificationreport of the Logistic Regression:\n",
      "               precision    recall  f1-score   support\n",
      "\n",
      "    Negative       0.85      0.85      0.85     19431\n",
      "     Neutral       0.66      0.32      0.43      6310\n",
      "    Positive       0.91      0.97      0.94     55773\n",
      "\n",
      "    accuracy                           0.89     81514\n",
      "   macro avg       0.81      0.71      0.74     81514\n",
      "weighted avg       0.88      0.89      0.88     81514\n",
      "\n"
     ]
    }
   ],
   "source": [
    "#instantiation\n",
    "lr = LogisticRegression(max_iter=1000)\n",
    "\n",
    "#fitting the training set\n",
    "lr.fit(X_train_vectorized, y_train)\n",
    "y_pred = lr.predict(X_test_vectorized)\n",
    "\n",
    "#Evaluation with confusion matrix\n",
    "cm_lr = pd.crosstab(y_test, y_pred, rownames=['Real sentiment'], colnames=['Predicted sentiment'])\n",
    "display(cm_lr)\n",
    "\n",
    "#Evaluation with classification report\n",
    "print(\"Classificationreport of the Logistic Regression:\\n\",classification_report(y_test, y_pred))"
   ]
  },
  {
   "cell_type": "code",
   "execution_count": 15,
   "id": "0215bc24",
   "metadata": {},
   "outputs": [
    {
     "name": "stdout",
     "output_type": "stream",
     "text": [
      "The accuracy of logistic regression for training set : 0.9188026498732313\n",
      "The accuracy of logistic regression for test set: 0.8871482199376794\n"
     ]
    }
   ],
   "source": [
    "y_train_log_reg=lr.predict(X_train_vectorized)\n",
    "accuracy_train = accuracy_score(y_train, y_train_log_reg)\n",
    "print('The accuracy of logistic regression for training set :', accuracy_train)\n",
    "y_test_log_reg=lr.predict(X_test_vectorized)\n",
    "accuracy_test = accuracy_score(y_test, y_test_log_reg)\n",
    "print('The accuracy of logistic regression for test set:', accuracy_test)"
   ]
  },
  {
   "cell_type": "markdown",
   "id": "a7adec7c",
   "metadata": {},
   "source": [
    "# Support Vector machines (with Grid Search)"
   ]
  },
  {
   "cell_type": "code",
   "execution_count": null,
   "id": "ba9edf86",
   "metadata": {},
   "outputs": [],
   "source": [
    "# Define parameter grid\n",
    "param_grid = {'C': [0.1, 1, 10, 100],\n",
    "              'gamma': [0.001, 0.01, 0.1, 1],\n",
    "              #'kernel': ['linear', 'rbf', 'poly', 'sigmoid']}\n",
    "              'kernel': ['poly']}\n",
    "\n",
    "# Instantiate SVM\n",
    "svc = SVC()\n",
    "\n",
    "# Instantiate GridSearchCV\n",
    "grid_search = GridSearchCV(svc, param_grid, cv=5, scoring='accuracy')\n",
    "\n",
    "# Fit the model\n",
    "grid_search.fit(X_train_vectorized, y_train)\n",
    "\n",
    "# Get the best parameters\n",
    "best_params = grid_search.best_params_\n",
    "print(\"Best Parameters:\", best_params)\n",
    "\n",
    "# Use the best model for prediction\n",
    "best_svc = grid_search.best_estimator_\n",
    "y_pred = best_svc.predict(X_test_vectorized)\n",
    "\n",
    "# Evaluation with confusion matrix\n",
    "cm_svc = pd.crosstab(y_test, y_pred, rownames=['Real sentiment'], colnames=['Predicted sentiment'])\n",
    "display(cm_svc)\n",
    "\n",
    "# Evaluation with classification report\n",
    "print(\"Classification report of the SVM:\\n\", classification_report(y_test, y_pred))"
   ]
  },
  {
   "cell_type": "code",
   "execution_count": null,
   "id": "ae8f5263",
   "metadata": {},
   "outputs": [],
   "source": [
    "y_train_svc=best_svc.predict(X_train_vectorized)\n",
    "accuracy_train = accuracy_score(y_train, y_train_svc)\n",
    "y_test_svc=best_svc.predict(X_test_vectorized)\n",
    "accuracy_test= accuracy_score(y_test, y_test_svc)\n",
    "print('The accuracy of SVM , tuned, is:', accuracy_train)\n",
    "print('The accuracy of test SVM, tuned, is:', accuracy_test)"
   ]
  },
  {
   "cell_type": "markdown",
   "id": "bb088a02",
   "metadata": {},
   "source": [
    "# Random Forest"
   ]
  },
  {
   "cell_type": "code",
   "execution_count": 16,
   "id": "ae1e5f81",
   "metadata": {},
   "outputs": [
    {
     "data": {
      "text/html": [
       "<div>\n",
       "<style scoped>\n",
       "    .dataframe tbody tr th:only-of-type {\n",
       "        vertical-align: middle;\n",
       "    }\n",
       "\n",
       "    .dataframe tbody tr th {\n",
       "        vertical-align: top;\n",
       "    }\n",
       "\n",
       "    .dataframe thead th {\n",
       "        text-align: right;\n",
       "    }\n",
       "</style>\n",
       "<table border=\"1\" class=\"dataframe\">\n",
       "  <thead>\n",
       "    <tr style=\"text-align: right;\">\n",
       "      <th>Predicted sentiment</th>\n",
       "      <th>Negative</th>\n",
       "      <th>Neutral</th>\n",
       "      <th>Positive</th>\n",
       "    </tr>\n",
       "    <tr>\n",
       "      <th>Real sentiment</th>\n",
       "      <th></th>\n",
       "      <th></th>\n",
       "      <th></th>\n",
       "    </tr>\n",
       "  </thead>\n",
       "  <tbody>\n",
       "    <tr>\n",
       "      <th>Negative</th>\n",
       "      <td>17495</td>\n",
       "      <td>71</td>\n",
       "      <td>1865</td>\n",
       "    </tr>\n",
       "    <tr>\n",
       "      <th>Neutral</th>\n",
       "      <td>859</td>\n",
       "      <td>3424</td>\n",
       "      <td>2027</td>\n",
       "    </tr>\n",
       "    <tr>\n",
       "      <th>Positive</th>\n",
       "      <td>887</td>\n",
       "      <td>67</td>\n",
       "      <td>54819</td>\n",
       "    </tr>\n",
       "  </tbody>\n",
       "</table>\n",
       "</div>"
      ],
      "text/plain": [
       "Predicted sentiment  Negative  Neutral  Positive\n",
       "Real sentiment                                  \n",
       "Negative                17495       71      1865\n",
       "Neutral                   859     3424      2027\n",
       "Positive                  887       67     54819"
      ]
     },
     "metadata": {},
     "output_type": "display_data"
    },
    {
     "name": "stdout",
     "output_type": "stream",
     "text": [
      "Classification report of the Random Forest:\n",
      "               precision    recall  f1-score   support\n",
      "\n",
      "    Negative       0.91      0.90      0.90     19431\n",
      "     Neutral       0.96      0.54      0.69      6310\n",
      "    Positive       0.93      0.98      0.96     55773\n",
      "\n",
      "    accuracy                           0.93     81514\n",
      "   macro avg       0.93      0.81      0.85     81514\n",
      "weighted avg       0.93      0.93      0.92     81514\n",
      "\n"
     ]
    }
   ],
   "source": [
    "#instantiation\n",
    "rf = ensemble.RandomForestClassifier(n_jobs=-1)\n",
    "\n",
    "#fitting the training set\n",
    "rf.fit(X_train_vectorized, y_train)\n",
    "y_pred = rf.predict(X_test_vectorized)\n",
    "\n",
    "#Evaluation with confusion matrix\n",
    "cm_rf = pd.crosstab(y_test, y_pred, rownames=['Real sentiment'], colnames=['Predicted sentiment'])\n",
    "display(cm_rf)\n",
    "\n",
    "#Evaluation with classification report\n",
    "print(\"Classification report of the Random Forest:\\n\", classification_report(y_test, y_pred))"
   ]
  },
  {
   "cell_type": "code",
   "execution_count": 18,
   "id": "37fd8317",
   "metadata": {},
   "outputs": [
    {
     "name": "stdout",
     "output_type": "stream",
     "text": [
      "The accuracy of training random forest model: 0.9912366075079742\n",
      "The accuracy of test randon forest model: 0.9291410064528792\n"
     ]
    }
   ],
   "source": [
    "y_train_rf=rf.predict(X_train_vectorized)\n",
    "accuracy_train = accuracy_score(y_train, y_train_rf)\n",
    "print('The accuracy of training random forest model:',accuracy_train)\n",
    "y_test_rf=rf.predict(X_test_vectorized)\n",
    "accuracy_test = accuracy_score(y_test, y_test_rf)\n",
    "print ('The accuracy of test randon forest model:', accuracy_test)"
   ]
  },
  {
   "cell_type": "code",
   "execution_count": 19,
   "id": "5ccd46c9",
   "metadata": {},
   "outputs": [
    {
     "name": "stdout",
     "output_type": "stream",
     "text": [
      "Sentiment Prediction:\n",
      "Positive\n"
     ]
    }
   ],
   "source": [
    "#Case test prediction with Random Forest:\n",
    "\n",
    "user_review = (\"EIt works fine. The battery is good, and the performance is great. The cameras are good, and the display looks great. However, Samsung still has not fixed the issue with screen burn-in. So, I can't use apps like TikTok or Instagram for too long, as the screen easily burns in, and you start seeing ghost images on the screen. This issue is related to all OLED and AMOLED displays.\")\n",
    "\n",
    "\n",
    "\n",
    "# Transform user input using the pre-trained CountVectorizer\n",
    "user_input_transformed = vectorizer.transform([user_review])\n",
    "\n",
    "# Make prediction using the RandomForestClassifier model\n",
    "test_prediction = rf.predict(user_input_transformed)\n",
    "\n",
    "# Display the result\n",
    "print(\"Sentiment Prediction:\")\n",
    "print(test_prediction[0])\n"
   ]
  },
  {
   "cell_type": "markdown",
   "id": "24c7c839",
   "metadata": {},
   "source": [
    "# Random Forest with Random Overasampling"
   ]
  },
  {
   "cell_type": "code",
   "execution_count": 14,
   "id": "b81da515",
   "metadata": {},
   "outputs": [
    {
     "name": "stdout",
     "output_type": "stream",
     "text": [
      "Sample Classes oversampled : {'Positive': 167061, 'Negative': 167061, 'Neutral': 167061}\n",
      "Classification report of Random Forest model with Resampling:\n",
      "                    pre       rec       spe        f1       geo       iba       sup\n",
      "\n",
      "   Negative       0.91      0.89      0.97      0.90      0.93      0.86     19860\n",
      "    Neutral       0.58      0.78      0.97      0.66      0.87      0.74      4684\n",
      "   Positive       0.97      0.94      0.92      0.95      0.93      0.87     56970\n",
      "\n",
      "avg / total       0.93      0.92      0.94      0.92      0.93      0.86     81514\n",
      "\n",
      "Confusion matrix of Random Forest with Resampling:\n",
      " Predicted class  Negative  Neutral  Positive\n",
      "Actual class                                \n",
      "Negative            17742      251      1523\n",
      "Neutral               991     3654      1685\n",
      "Positive             1127      779     53762\n"
     ]
    }
   ],
   "source": [
    "# Define the samplers\n",
    "ros = RandomOverSampler(sampling_strategy='auto', random_state=242)\n",
    "\n",
    "\n",
    "# Apply over sampling separately\n",
    "X_ro, y_ro = ros.fit_resample(X_train_vectorized, y_train)\n",
    "print('Sample Classes oversampled :', dict(pd.Series(y_ro).value_counts()))\n",
    "\n",
    "\n",
    "rf = ensemble.RandomForestClassifier(n_jobs=-1)\n",
    "rf.fit(X_ro, y_ro)\n",
    "y_pred_rf_resampled = rf.predict(X_test_vectorized)\n",
    "\n",
    "# Evaluation of the oversampled models\n",
    "print(\"Classification report of Random Forest model with Resampling:\\n\",\n",
    "      classification_report_imbalanced(y_pred_rf_resampled, y_test))\n",
    "\n",
    "confusion_matrix_rf_oversampled = pd.crosstab(y_test, y_pred_rf_resampled,\n",
    "                                                           rownames=[\"Actual class\"], colnames=[\"Predicted class\"])\n",
    "print(\"Confusion matrix of Random Forest with Resampling:\\n\", \n",
    "      confusion_matrix_rf_oversampled)\n"
   ]
  },
  {
   "cell_type": "code",
   "execution_count": 15,
   "id": "c6e602cb",
   "metadata": {},
   "outputs": [
    {
     "name": "stdout",
     "output_type": "stream",
     "text": [
      "The accuracy of training random forest model: 0.9862926310624028\n",
      "The accuracy of test randon forest model: 0.9220256643030645\n"
     ]
    }
   ],
   "source": [
    "y_train_rf=rf.predict(X_train_vectorized)\n",
    "accuracy_train = accuracy_score(y_train, y_train_rf)\n",
    "print('The accuracy of training random forest model:',accuracy_train)\n",
    "y_test_rf=rf.predict(X_test_vectorized)\n",
    "accuracy_test = accuracy_score(y_test, y_test_rf)\n",
    "print ('The accuracy of test randon forest model:', accuracy_test)\n",
    "\n",
    "#As we see it did not improve the result for the random forest model"
   ]
  },
  {
   "cell_type": "markdown",
   "id": "c0d6ca2d",
   "metadata": {},
   "source": [
    "# Random Forest with Class Weights"
   ]
  },
  {
   "cell_type": "code",
   "execution_count": 17,
   "id": "9b8b3651",
   "metadata": {},
   "outputs": [
    {
     "data": {
      "text/html": [
       "<div>\n",
       "<style scoped>\n",
       "    .dataframe tbody tr th:only-of-type {\n",
       "        vertical-align: middle;\n",
       "    }\n",
       "\n",
       "    .dataframe tbody tr th {\n",
       "        vertical-align: top;\n",
       "    }\n",
       "\n",
       "    .dataframe thead th {\n",
       "        text-align: right;\n",
       "    }\n",
       "</style>\n",
       "<table border=\"1\" class=\"dataframe\">\n",
       "  <thead>\n",
       "    <tr style=\"text-align: right;\">\n",
       "      <th>Predicted sentiment</th>\n",
       "      <th>Negative</th>\n",
       "      <th>Neutral</th>\n",
       "      <th>Positive</th>\n",
       "    </tr>\n",
       "    <tr>\n",
       "      <th>Real sentiment</th>\n",
       "      <th></th>\n",
       "      <th></th>\n",
       "      <th></th>\n",
       "    </tr>\n",
       "  </thead>\n",
       "  <tbody>\n",
       "    <tr>\n",
       "      <th>Negative</th>\n",
       "      <td>17276</td>\n",
       "      <td>296</td>\n",
       "      <td>1944</td>\n",
       "    </tr>\n",
       "    <tr>\n",
       "      <th>Neutral</th>\n",
       "      <td>804</td>\n",
       "      <td>3746</td>\n",
       "      <td>1780</td>\n",
       "    </tr>\n",
       "    <tr>\n",
       "      <th>Positive</th>\n",
       "      <td>812</td>\n",
       "      <td>2577</td>\n",
       "      <td>52279</td>\n",
       "    </tr>\n",
       "  </tbody>\n",
       "</table>\n",
       "</div>"
      ],
      "text/plain": [
       "Predicted sentiment  Negative  Neutral  Positive\n",
       "Real sentiment                                  \n",
       "Negative                17276      296      1944\n",
       "Neutral                   804     3746      1780\n",
       "Positive                  812     2577     52279"
      ]
     },
     "metadata": {},
     "output_type": "display_data"
    },
    {
     "name": "stdout",
     "output_type": "stream",
     "text": [
      "Classification report of the Random Forest:\n",
      "               precision    recall  f1-score   support\n",
      "\n",
      "    Negative       0.91      0.89      0.90     19516\n",
      "     Neutral       0.57      0.59      0.58      6330\n",
      "    Positive       0.93      0.94      0.94     55668\n",
      "\n",
      "    accuracy                           0.90     81514\n",
      "   macro avg       0.80      0.81      0.80     81514\n",
      "weighted avg       0.90      0.90      0.90     81514\n",
      "\n",
      "The accuracy of training random forest model: 0.9641122106812792\n",
      "The accuracy of test randon forest model: 0.8992443015923645\n"
     ]
    }
   ],
   "source": [
    "rf = ensemble.RandomForestClassifier(n_jobs=-1, class_weight ={'Positive':1, 'Negative':5, 'Neutral':20})\n",
    "\n",
    "rf.fit(X_train_vectorized, y_train)\n",
    "y_pred = rf.predict(X_test_vectorized)\n",
    "\n",
    "#Evaluation with confusion matrix\n",
    "cm_rf = pd.crosstab(y_test, y_pred, rownames=['Real sentiment'], colnames=['Predicted sentiment'])\n",
    "display(cm_rf)\n",
    "\n",
    "#Evaluation with classification report\n",
    "print(\"Classification report of the Random Forest:\\n\", classification_report(y_test, y_pred))\n",
    "y_train_rf=rf.predict(X_train_vectorized)\n",
    "accuracy_train = accuracy_score(y_train, y_train_rf)\n",
    "print('The accuracy of training random forest model:',accuracy_train)\n",
    "y_test_rf=rf.predict(X_test_vectorized)\n",
    "accuracy_test = accuracy_score(y_test, y_test_rf)\n",
    "print ('The accuracy of test randon forest model:', accuracy_test)\n"
   ]
  },
  {
   "cell_type": "code",
   "execution_count": null,
   "id": "34fb5838",
   "metadata": {},
   "outputs": [],
   "source": []
  },
  {
   "cell_type": "markdown",
   "id": "c3060d81",
   "metadata": {},
   "source": [
    "# Random Forest with TFIDF vectorized text"
   ]
  },
  {
   "cell_type": "code",
   "execution_count": 20,
   "id": "95313342",
   "metadata": {},
   "outputs": [],
   "source": [
    "def vectorize(data,tfidf_vect_fit):\n",
    "    X_tfidf = tfidf_vect_fit.transform(data)\n",
    "    words = tfidf_vect_fit.get_feature_names_out()\n",
    "    X_tfidf_df = pd.DataFrame(X_tfidf.toarray())\n",
    "    X_tfidf_df.columns = words\n",
    "    return(X_tfidf_df)"
   ]
  },
  {
   "cell_type": "code",
   "execution_count": 22,
   "id": "25f86085",
   "metadata": {},
   "outputs": [],
   "source": [
    "X_train, X_test, y_train, y_test = train_test_split(df.Text, df.Sentiment, test_size=0.2, random_state=1000)\n",
    "\n",
    "tfidf_vect = TfidfVectorizer(max_features=2000)\n",
    "tfidf_vect_fit=tfidf_vect.fit(X_train)\n",
    "X_train=vectorize(X_train,tfidf_vect_fit)"
   ]
  },
  {
   "cell_type": "code",
   "execution_count": 26,
   "id": "11de398d",
   "metadata": {},
   "outputs": [
    {
     "name": "stdout",
     "output_type": "stream",
     "text": [
      "[0.91726888 0.91945408 0.92119841 0.91799571 0.91981675]\n"
     ]
    },
    {
     "data": {
      "text/plain": [
       "0.9191467646013998"
      ]
     },
     "execution_count": 26,
     "metadata": {},
     "output_type": "execute_result"
    }
   ],
   "source": [
    "#rf = ensemble.RandomForestClassifier()\n",
    "#scores = cross_val_score(rf,X_train,y_train.values.ravel(),cv=5)\n",
    "#print(scores)\n",
    "#scores.mean()"
   ]
  },
  {
   "cell_type": "code",
   "execution_count": 27,
   "id": "711922fd",
   "metadata": {},
   "outputs": [
    {
     "data": {
      "text/html": [
       "<style>#sk-container-id-1 {color: black;}#sk-container-id-1 pre{padding: 0;}#sk-container-id-1 div.sk-toggleable {background-color: white;}#sk-container-id-1 label.sk-toggleable__label {cursor: pointer;display: block;width: 100%;margin-bottom: 0;padding: 0.3em;box-sizing: border-box;text-align: center;}#sk-container-id-1 label.sk-toggleable__label-arrow:before {content: \"▸\";float: left;margin-right: 0.25em;color: #696969;}#sk-container-id-1 label.sk-toggleable__label-arrow:hover:before {color: black;}#sk-container-id-1 div.sk-estimator:hover label.sk-toggleable__label-arrow:before {color: black;}#sk-container-id-1 div.sk-toggleable__content {max-height: 0;max-width: 0;overflow: hidden;text-align: left;background-color: #f0f8ff;}#sk-container-id-1 div.sk-toggleable__content pre {margin: 0.2em;color: black;border-radius: 0.25em;background-color: #f0f8ff;}#sk-container-id-1 input.sk-toggleable__control:checked~div.sk-toggleable__content {max-height: 200px;max-width: 100%;overflow: auto;}#sk-container-id-1 input.sk-toggleable__control:checked~label.sk-toggleable__label-arrow:before {content: \"▾\";}#sk-container-id-1 div.sk-estimator input.sk-toggleable__control:checked~label.sk-toggleable__label {background-color: #d4ebff;}#sk-container-id-1 div.sk-label input.sk-toggleable__control:checked~label.sk-toggleable__label {background-color: #d4ebff;}#sk-container-id-1 input.sk-hidden--visually {border: 0;clip: rect(1px 1px 1px 1px);clip: rect(1px, 1px, 1px, 1px);height: 1px;margin: -1px;overflow: hidden;padding: 0;position: absolute;width: 1px;}#sk-container-id-1 div.sk-estimator {font-family: monospace;background-color: #f0f8ff;border: 1px dotted black;border-radius: 0.25em;box-sizing: border-box;margin-bottom: 0.5em;}#sk-container-id-1 div.sk-estimator:hover {background-color: #d4ebff;}#sk-container-id-1 div.sk-parallel-item::after {content: \"\";width: 100%;border-bottom: 1px solid gray;flex-grow: 1;}#sk-container-id-1 div.sk-label:hover label.sk-toggleable__label {background-color: #d4ebff;}#sk-container-id-1 div.sk-serial::before {content: \"\";position: absolute;border-left: 1px solid gray;box-sizing: border-box;top: 0;bottom: 0;left: 50%;z-index: 0;}#sk-container-id-1 div.sk-serial {display: flex;flex-direction: column;align-items: center;background-color: white;padding-right: 0.2em;padding-left: 0.2em;position: relative;}#sk-container-id-1 div.sk-item {position: relative;z-index: 1;}#sk-container-id-1 div.sk-parallel {display: flex;align-items: stretch;justify-content: center;background-color: white;position: relative;}#sk-container-id-1 div.sk-item::before, #sk-container-id-1 div.sk-parallel-item::before {content: \"\";position: absolute;border-left: 1px solid gray;box-sizing: border-box;top: 0;bottom: 0;left: 50%;z-index: -1;}#sk-container-id-1 div.sk-parallel-item {display: flex;flex-direction: column;z-index: 1;position: relative;background-color: white;}#sk-container-id-1 div.sk-parallel-item:first-child::after {align-self: flex-end;width: 50%;}#sk-container-id-1 div.sk-parallel-item:last-child::after {align-self: flex-start;width: 50%;}#sk-container-id-1 div.sk-parallel-item:only-child::after {width: 0;}#sk-container-id-1 div.sk-dashed-wrapped {border: 1px dashed gray;margin: 0 0.4em 0.5em 0.4em;box-sizing: border-box;padding-bottom: 0.4em;background-color: white;}#sk-container-id-1 div.sk-label label {font-family: monospace;font-weight: bold;display: inline-block;line-height: 1.2em;}#sk-container-id-1 div.sk-label-container {text-align: center;}#sk-container-id-1 div.sk-container {/* jupyter's `normalize.less` sets `[hidden] { display: none; }` but bootstrap.min.css set `[hidden] { display: none !important; }` so we also need the `!important` here to be able to override the default hidden behavior on the sphinx rendered scikit-learn.org. See: https://github.com/scikit-learn/scikit-learn/issues/21755 */display: inline-block !important;position: relative;}#sk-container-id-1 div.sk-text-repr-fallback {display: none;}</style><div id=\"sk-container-id-1\" class=\"sk-top-container\"><div class=\"sk-text-repr-fallback\"><pre>RandomForestClassifier()</pre><b>In a Jupyter environment, please rerun this cell to show the HTML representation or trust the notebook. <br />On GitHub, the HTML representation is unable to render, please try loading this page with nbviewer.org.</b></div><div class=\"sk-container\" hidden><div class=\"sk-item\"><div class=\"sk-estimator sk-toggleable\"><input class=\"sk-toggleable__control sk-hidden--visually\" id=\"sk-estimator-id-1\" type=\"checkbox\" checked><label for=\"sk-estimator-id-1\" class=\"sk-toggleable__label sk-toggleable__label-arrow\">RandomForestClassifier</label><div class=\"sk-toggleable__content\"><pre>RandomForestClassifier()</pre></div></div></div></div></div>"
      ],
      "text/plain": [
       "RandomForestClassifier()"
      ]
     },
     "execution_count": 27,
     "metadata": {},
     "output_type": "execute_result"
    }
   ],
   "source": [
    "\n",
    "rf.fit(X_train, y_train.values.ravel())"
   ]
  },
  {
   "cell_type": "code",
   "execution_count": 28,
   "id": "bc0c1097",
   "metadata": {},
   "outputs": [],
   "source": [
    "X_test=vectorize(X_test,tfidf_vect_fit)"
   ]
  },
  {
   "cell_type": "code",
   "execution_count": 29,
   "id": "4229a0dd",
   "metadata": {},
   "outputs": [
    {
     "data": {
      "image/png": "[encoded data removed]",
      "text/plain": [
       "<Figure size 1000x1000 with 1 Axes>"
      ]
     },
     "metadata": {},
     "output_type": "display_data"
    }
   ],
   "source": [
    "\n",
    "feat_importances = pd.Series(rf.feature_importances_, index=X_train.columns)\n",
    "feat_importances.nlargest(30).plot(kind='bar',figsize=(10,10))\n",
    "plt.title(\"Top 30 important features\")\n",
    "plt.show()\n",
    "\n"
   ]
  },
  {
   "cell_type": "markdown",
   "id": "bab5e7a2",
   "metadata": {},
   "source": [
    "## we can see some features are very imporant, as great, love, good, return, we can try to work with this later on, in other notebooks"
   ]
  },
  {
   "cell_type": "code",
   "execution_count": 35,
   "id": "36de7720",
   "metadata": {},
   "outputs": [
    {
     "data": {
      "text/html": [
       "<div>\n",
       "<style scoped>\n",
       "    .dataframe tbody tr th:only-of-type {\n",
       "        vertical-align: middle;\n",
       "    }\n",
       "\n",
       "    .dataframe tbody tr th {\n",
       "        vertical-align: top;\n",
       "    }\n",
       "\n",
       "    .dataframe thead th {\n",
       "        text-align: right;\n",
       "    }\n",
       "</style>\n",
       "<table border=\"1\" class=\"dataframe\">\n",
       "  <thead>\n",
       "    <tr style=\"text-align: right;\">\n",
       "      <th>Predicted sentiment</th>\n",
       "      <th>Negative</th>\n",
       "      <th>Neutral</th>\n",
       "      <th>Positive</th>\n",
       "    </tr>\n",
       "    <tr>\n",
       "      <th>Real sentiment</th>\n",
       "      <th></th>\n",
       "      <th></th>\n",
       "      <th></th>\n",
       "    </tr>\n",
       "  </thead>\n",
       "  <tbody>\n",
       "    <tr>\n",
       "      <th>Negative</th>\n",
       "      <td>13992</td>\n",
       "      <td>44</td>\n",
       "      <td>1513</td>\n",
       "    </tr>\n",
       "    <tr>\n",
       "      <th>Neutral</th>\n",
       "      <td>831</td>\n",
       "      <td>2657</td>\n",
       "      <td>1477</td>\n",
       "    </tr>\n",
       "    <tr>\n",
       "      <th>Positive</th>\n",
       "      <td>820</td>\n",
       "      <td>48</td>\n",
       "      <td>43829</td>\n",
       "    </tr>\n",
       "  </tbody>\n",
       "</table>\n",
       "</div>"
      ],
      "text/plain": [
       "Predicted sentiment  Negative  Neutral  Positive\n",
       "Real sentiment                                  \n",
       "Negative                13992       44      1513\n",
       "Neutral                   831     2657      1477\n",
       "Positive                  820       48     43829"
      ]
     },
     "metadata": {},
     "output_type": "display_data"
    },
    {
     "name": "stdout",
     "output_type": "stream",
     "text": [
      "Classification report of the Random Forest:\n",
      "               precision    recall  f1-score   support\n",
      "\n",
      "    Negative       0.89      0.90      0.90     15549\n",
      "     Neutral       0.97      0.54      0.69      4965\n",
      "    Positive       0.94      0.98      0.96     44697\n",
      "\n",
      "    accuracy                           0.93     65211\n",
      "   macro avg       0.93      0.81      0.85     65211\n",
      "weighted avg       0.93      0.93      0.92     65211\n",
      "\n"
     ]
    }
   ],
   "source": [
    "#Evaluation with confusion matrix\n",
    "y_pred = rf.predict(X_test)\n",
    "cm_rf = pd.crosstab(y_test, y_pred, rownames=['Real sentiment'], colnames=['Predicted sentiment'])\n",
    "display(cm_rf)\n",
    "\n",
    "#Evaluation with classification report\n",
    "print(\"Classification report of the Random Forest:\\n\", classification_report(y_test, y_pred))"
   ]
  },
  {
   "cell_type": "code",
   "execution_count": 31,
   "id": "53e07177",
   "metadata": {},
   "outputs": [
    {
     "name": "stdout",
     "output_type": "stream",
     "text": [
      "The accuracy of training random forest model: 0.9866663088524514\n",
      "The accuracy of test randon forest model: 0.9274202205149438\n"
     ]
    }
   ],
   "source": [
    "y_train_rf=rf.predict(X_train)\n",
    "accuracy_train = accuracy_score(y_train, y_train_rf)\n",
    "print('The accuracy of training random forest model:',accuracy_train)\n",
    "y_test_rf=rf.predict(X_test)\n",
    "accuracy_test = accuracy_score(y_test, y_test_rf)\n",
    "print ('The accuracy of test randon forest model:', accuracy_test)"
   ]
  },
  {
   "cell_type": "markdown",
   "id": "e7361069",
   "metadata": {},
   "source": [
    "# XGBoost model"
   ]
  },
  {
   "cell_type": "code",
   "execution_count": 37,
   "id": "ee91147b",
   "metadata": {},
   "outputs": [],
   "source": [
    "#replace the values of df.sentiment to integers\n",
    "#this was the requirement of XGBoost and CNN\n",
    "\n",
    "df.Sentiment = df.Sentiment.replace(['Positive','Negative','Neutral'],[2,0,1])"
   ]
  },
  {
   "cell_type": "code",
   "execution_count": 38,
   "id": "7d839354",
   "metadata": {},
   "outputs": [],
   "source": [
    "#XGBoost with Count Vectorizer\n",
    "vectorizer = CountVectorizer(max_features=2000)\n",
    "data_features = vectorizer.fit_transform(df['Text'])\n",
    "data_features = data_features.toarray()\n",
    "\n",
    "X_train, X_test, y_train, y_test = train_test_split(data_features, df.Sentiment, test_size=0.2, random_state=42)"
   ]
  },
  {
   "cell_type": "code",
   "execution_count": 39,
   "id": "10941f3d",
   "metadata": {},
   "outputs": [
    {
     "data": {
      "text/html": [
       "<style>#sk-container-id-2 {color: black;}#sk-container-id-2 pre{padding: 0;}#sk-container-id-2 div.sk-toggleable {background-color: white;}#sk-container-id-2 label.sk-toggleable__label {cursor: pointer;display: block;width: 100%;margin-bottom: 0;padding: 0.3em;box-sizing: border-box;text-align: center;}#sk-container-id-2 label.sk-toggleable__label-arrow:before {content: \"▸\";float: left;margin-right: 0.25em;color: #696969;}#sk-container-id-2 label.sk-toggleable__label-arrow:hover:before {color: black;}#sk-container-id-2 div.sk-estimator:hover label.sk-toggleable__label-arrow:before {color: black;}#sk-container-id-2 div.sk-toggleable__content {max-height: 0;max-width: 0;overflow: hidden;text-align: left;background-color: #f0f8ff;}#sk-container-id-2 div.sk-toggleable__content pre {margin: 0.2em;color: black;border-radius: 0.25em;background-color: #f0f8ff;}#sk-container-id-2 input.sk-toggleable__control:checked~div.sk-toggleable__content {max-height: 200px;max-width: 100%;overflow: auto;}#sk-container-id-2 input.sk-toggleable__control:checked~label.sk-toggleable__label-arrow:before {content: \"▾\";}#sk-container-id-2 div.sk-estimator input.sk-toggleable__control:checked~label.sk-toggleable__label {background-color: #d4ebff;}#sk-container-id-2 div.sk-label input.sk-toggleable__control:checked~label.sk-toggleable__label {background-color: #d4ebff;}#sk-container-id-2 input.sk-hidden--visually {border: 0;clip: rect(1px 1px 1px 1px);clip: rect(1px, 1px, 1px, 1px);height: 1px;margin: -1px;overflow: hidden;padding: 0;position: absolute;width: 1px;}#sk-container-id-2 div.sk-estimator {font-family: monospace;background-color: #f0f8ff;border: 1px dotted black;border-radius: 0.25em;box-sizing: border-box;margin-bottom: 0.5em;}#sk-container-id-2 div.sk-estimator:hover {background-color: #d4ebff;}#sk-container-id-2 div.sk-parallel-item::after {content: \"\";width: 100%;border-bottom: 1px solid gray;flex-grow: 1;}#sk-container-id-2 div.sk-label:hover label.sk-toggleable__label {background-color: #d4ebff;}#sk-container-id-2 div.sk-serial::before {content: \"\";position: absolute;border-left: 1px solid gray;box-sizing: border-box;top: 0;bottom: 0;left: 50%;z-index: 0;}#sk-container-id-2 div.sk-serial {display: flex;flex-direction: column;align-items: center;background-color: white;padding-right: 0.2em;padding-left: 0.2em;position: relative;}#sk-container-id-2 div.sk-item {position: relative;z-index: 1;}#sk-container-id-2 div.sk-parallel {display: flex;align-items: stretch;justify-content: center;background-color: white;position: relative;}#sk-container-id-2 div.sk-item::before, #sk-container-id-2 div.sk-parallel-item::before {content: \"\";position: absolute;border-left: 1px solid gray;box-sizing: border-box;top: 0;bottom: 0;left: 50%;z-index: -1;}#sk-container-id-2 div.sk-parallel-item {display: flex;flex-direction: column;z-index: 1;position: relative;background-color: white;}#sk-container-id-2 div.sk-parallel-item:first-child::after {align-self: flex-end;width: 50%;}#sk-container-id-2 div.sk-parallel-item:last-child::after {align-self: flex-start;width: 50%;}#sk-container-id-2 div.sk-parallel-item:only-child::after {width: 0;}#sk-container-id-2 div.sk-dashed-wrapped {border: 1px dashed gray;margin: 0 0.4em 0.5em 0.4em;box-sizing: border-box;padding-bottom: 0.4em;background-color: white;}#sk-container-id-2 div.sk-label label {font-family: monospace;font-weight: bold;display: inline-block;line-height: 1.2em;}#sk-container-id-2 div.sk-label-container {text-align: center;}#sk-container-id-2 div.sk-container {/* jupyter's `normalize.less` sets `[hidden] { display: none; }` but bootstrap.min.css set `[hidden] { display: none !important; }` so we also need the `!important` here to be able to override the default hidden behavior on the sphinx rendered scikit-learn.org. See: https://github.com/scikit-learn/scikit-learn/issues/21755 */display: inline-block !important;position: relative;}#sk-container-id-2 div.sk-text-repr-fallback {display: none;}</style><div id=\"sk-container-id-2\" class=\"sk-top-container\"><div class=\"sk-text-repr-fallback\"><pre>XGBClassifier(base_score=None, booster=None, callbacks=None,\n",
       "              colsample_bylevel=None, colsample_bynode=None,\n",
       "              colsample_bytree=None, device=None, early_stopping_rounds=None,\n",
       "              enable_categorical=False, eval_metric=None, feature_types=None,\n",
       "              gamma=None, grow_policy=None, importance_type=None,\n",
       "              interaction_constraints=None, learning_rate=0.01, max_bin=None,\n",
       "              max_cat_threshold=None, max_cat_to_onehot=None,\n",
       "              max_delta_step=None, max_depth=10, max_leaves=None,\n",
       "              min_child_weight=None, missing=nan, monotone_constraints=None,\n",
       "              multi_strategy=None, n_estimators=1000, n_jobs=None,\n",
       "              num_parallel_tree=None, objective=&#x27;multi:softprob&#x27;, ...)</pre><b>In a Jupyter environment, please rerun this cell to show the HTML representation or trust the notebook. <br />On GitHub, the HTML representation is unable to render, please try loading this page with nbviewer.org.</b></div><div class=\"sk-container\" hidden><div class=\"sk-item\"><div class=\"sk-estimator sk-toggleable\"><input class=\"sk-toggleable__control sk-hidden--visually\" id=\"sk-estimator-id-2\" type=\"checkbox\" checked><label for=\"sk-estimator-id-2\" class=\"sk-toggleable__label sk-toggleable__label-arrow\">XGBClassifier</label><div class=\"sk-toggleable__content\"><pre>XGBClassifier(base_score=None, booster=None, callbacks=None,\n",
       "              colsample_bylevel=None, colsample_bynode=None,\n",
       "              colsample_bytree=None, device=None, early_stopping_rounds=None,\n",
       "              enable_categorical=False, eval_metric=None, feature_types=None,\n",
       "              gamma=None, grow_policy=None, importance_type=None,\n",
       "              interaction_constraints=None, learning_rate=0.01, max_bin=None,\n",
       "              max_cat_threshold=None, max_cat_to_onehot=None,\n",
       "              max_delta_step=None, max_depth=10, max_leaves=None,\n",
       "              min_child_weight=None, missing=nan, monotone_constraints=None,\n",
       "              multi_strategy=None, n_estimators=1000, n_jobs=None,\n",
       "              num_parallel_tree=None, objective=&#x27;multi:softprob&#x27;, ...)</pre></div></div></div></div></div>"
      ],
      "text/plain": [
       "XGBClassifier(base_score=None, booster=None, callbacks=None,\n",
       "              colsample_bylevel=None, colsample_bynode=None,\n",
       "              colsample_bytree=None, device=None, early_stopping_rounds=None,\n",
       "              enable_categorical=False, eval_metric=None, feature_types=None,\n",
       "              gamma=None, grow_policy=None, importance_type=None,\n",
       "              interaction_constraints=None, learning_rate=0.01, max_bin=None,\n",
       "              max_cat_threshold=None, max_cat_to_onehot=None,\n",
       "              max_delta_step=None, max_depth=10, max_leaves=None,\n",
       "              min_child_weight=None, missing=nan, monotone_constraints=None,\n",
       "              multi_strategy=None, n_estimators=1000, n_jobs=None,\n",
       "              num_parallel_tree=None, objective='multi:softprob', ...)"
      ]
     },
     "execution_count": 39,
     "metadata": {},
     "output_type": "execute_result"
    }
   ],
   "source": [
    "model = xgb.XGBClassifier(max_depth=10, n_estimators=1000, learning_rate=0.01)\n",
    "model.fit(X_train, y_train)"
   ]
  },
  {
   "cell_type": "code",
   "execution_count": 40,
   "id": "b447ea10",
   "metadata": {},
   "outputs": [
    {
     "name": "stdout",
     "output_type": "stream",
     "text": [
      "              precision    recall  f1-score   support\n",
      "\n",
      "           0       0.82      0.71      0.76     15528\n",
      "           1       0.83      0.12      0.20      5017\n",
      "           2       0.85      0.97      0.91     44666\n",
      "\n",
      "    accuracy                           0.84     65211\n",
      "   macro avg       0.83      0.60      0.62     65211\n",
      "weighted avg       0.84      0.84      0.82     65211\n",
      "\n",
      "Confusion matrix of XGBoost:\n",
      "\n"
     ]
    },
    {
     "data": {
      "text/html": [
       "<div>\n",
       "<style scoped>\n",
       "    .dataframe tbody tr th:only-of-type {\n",
       "        vertical-align: middle;\n",
       "    }\n",
       "\n",
       "    .dataframe tbody tr th {\n",
       "        vertical-align: top;\n",
       "    }\n",
       "\n",
       "    .dataframe thead th {\n",
       "        text-align: right;\n",
       "    }\n",
       "</style>\n",
       "<table border=\"1\" class=\"dataframe\">\n",
       "  <thead>\n",
       "    <tr style=\"text-align: right;\">\n",
       "      <th>Predicted sentiment</th>\n",
       "      <th>0</th>\n",
       "      <th>1</th>\n",
       "      <th>2</th>\n",
       "    </tr>\n",
       "    <tr>\n",
       "      <th>Real sentiment</th>\n",
       "      <th></th>\n",
       "      <th></th>\n",
       "      <th></th>\n",
       "    </tr>\n",
       "  </thead>\n",
       "  <tbody>\n",
       "    <tr>\n",
       "      <th>0</th>\n",
       "      <td>11066</td>\n",
       "      <td>55</td>\n",
       "      <td>4407</td>\n",
       "    </tr>\n",
       "    <tr>\n",
       "      <th>1</th>\n",
       "      <td>1244</td>\n",
       "      <td>585</td>\n",
       "      <td>3188</td>\n",
       "    </tr>\n",
       "    <tr>\n",
       "      <th>2</th>\n",
       "      <td>1183</td>\n",
       "      <td>65</td>\n",
       "      <td>43418</td>\n",
       "    </tr>\n",
       "  </tbody>\n",
       "</table>\n",
       "</div>"
      ],
      "text/plain": [
       "Predicted sentiment      0    1      2\n",
       "Real sentiment                        \n",
       "0                    11066   55   4407\n",
       "1                     1244  585   3188\n",
       "2                     1183   65  43418"
      ]
     },
     "execution_count": 40,
     "metadata": {},
     "output_type": "execute_result"
    }
   ],
   "source": [
    "y_pred = model.predict(X_test)\n",
    "print(classification_report(y_test, y_pred))\n",
    "print(\"Confusion matrix of XGBoost:\\n\")\n",
    "pd.crosstab(y_test, y_pred,rownames=[\"Real sentiment\"], colnames=[\"Predicted sentiment\"])"
   ]
  },
  {
   "cell_type": "code",
   "execution_count": 41,
   "id": "3b876f7d",
   "metadata": {},
   "outputs": [
    {
     "name": "stdout",
     "output_type": "stream",
     "text": [
      "The accuracy of XGBoost model for train test: 0.8570749454652798\n",
      "The accuracy of XGBoost model for test set: 0.8444740917943292\n"
     ]
    }
   ],
   "source": [
    "y_train_xgb=model.predict(X_train)\n",
    "accuracy_train=accuracy_score(y_train,y_train_xgb)\n",
    "print('The accuracy of XGBoost model for train test:',accuracy_train)\n",
    "y_test_xgb=model.predict(X_test)\n",
    "accuracy_test=accuracy_score(y_test, y_test_xgb)\n",
    "print('The accuracy of XGBoost model for test set:', accuracy_test)"
   ]
  },
  {
   "cell_type": "code",
   "execution_count": 42,
   "id": "57d539c7",
   "metadata": {},
   "outputs": [],
   "source": [
    "#For TFIDF vectorizer\n",
    "def vectorize(data,tfidf_vect_fit):\n",
    "    X_tfidf = tfidf_vect_fit.transform(data)\n",
    "    words = tfidf_vect_fit.get_feature_names_out()\n",
    "    X_tfidf_df = pd.DataFrame(X_tfidf.toarray())\n",
    "    X_tfidf_df.columns = words\n",
    "    return(X_tfidf_df)"
   ]
  },
  {
   "cell_type": "code",
   "execution_count": 44,
   "id": "3a25cbfd",
   "metadata": {},
   "outputs": [],
   "source": [
    "X_train, X_test, y_train, y_test = train_test_split(df.Text, df.Sentiment, test_size=0.2, random_state=1000)\n",
    "tfidf_vect = TfidfVectorizer(max_features=2000)\n",
    "tfidf_vect_fit=tfidf_vect.fit(X_train)\n",
    "X_train=vectorize(X_train,tfidf_vect_fit)\n",
    "X_test=vectorize(X_test,tfidf_vect_fit)"
   ]
  },
  {
   "cell_type": "code",
   "execution_count": 45,
   "id": "1e1a9631",
   "metadata": {},
   "outputs": [
    {
     "data": {
      "text/html": [
       "<style>#sk-container-id-3 {color: black;}#sk-container-id-3 pre{padding: 0;}#sk-container-id-3 div.sk-toggleable {background-color: white;}#sk-container-id-3 label.sk-toggleable__label {cursor: pointer;display: block;width: 100%;margin-bottom: 0;padding: 0.3em;box-sizing: border-box;text-align: center;}#sk-container-id-3 label.sk-toggleable__label-arrow:before {content: \"▸\";float: left;margin-right: 0.25em;color: #696969;}#sk-container-id-3 label.sk-toggleable__label-arrow:hover:before {color: black;}#sk-container-id-3 div.sk-estimator:hover label.sk-toggleable__label-arrow:before {color: black;}#sk-container-id-3 div.sk-toggleable__content {max-height: 0;max-width: 0;overflow: hidden;text-align: left;background-color: #f0f8ff;}#sk-container-id-3 div.sk-toggleable__content pre {margin: 0.2em;color: black;border-radius: 0.25em;background-color: #f0f8ff;}#sk-container-id-3 input.sk-toggleable__control:checked~div.sk-toggleable__content {max-height: 200px;max-width: 100%;overflow: auto;}#sk-container-id-3 input.sk-toggleable__control:checked~label.sk-toggleable__label-arrow:before {content: \"▾\";}#sk-container-id-3 div.sk-estimator input.sk-toggleable__control:checked~label.sk-toggleable__label {background-color: #d4ebff;}#sk-container-id-3 div.sk-label input.sk-toggleable__control:checked~label.sk-toggleable__label {background-color: #d4ebff;}#sk-container-id-3 input.sk-hidden--visually {border: 0;clip: rect(1px 1px 1px 1px);clip: rect(1px, 1px, 1px, 1px);height: 1px;margin: -1px;overflow: hidden;padding: 0;position: absolute;width: 1px;}#sk-container-id-3 div.sk-estimator {font-family: monospace;background-color: #f0f8ff;border: 1px dotted black;border-radius: 0.25em;box-sizing: border-box;margin-bottom: 0.5em;}#sk-container-id-3 div.sk-estimator:hover {background-color: #d4ebff;}#sk-container-id-3 div.sk-parallel-item::after {content: \"\";width: 100%;border-bottom: 1px solid gray;flex-grow: 1;}#sk-container-id-3 div.sk-label:hover label.sk-toggleable__label {background-color: #d4ebff;}#sk-container-id-3 div.sk-serial::before {content: \"\";position: absolute;border-left: 1px solid gray;box-sizing: border-box;top: 0;bottom: 0;left: 50%;z-index: 0;}#sk-container-id-3 div.sk-serial {display: flex;flex-direction: column;align-items: center;background-color: white;padding-right: 0.2em;padding-left: 0.2em;position: relative;}#sk-container-id-3 div.sk-item {position: relative;z-index: 1;}#sk-container-id-3 div.sk-parallel {display: flex;align-items: stretch;justify-content: center;background-color: white;position: relative;}#sk-container-id-3 div.sk-item::before, #sk-container-id-3 div.sk-parallel-item::before {content: \"\";position: absolute;border-left: 1px solid gray;box-sizing: border-box;top: 0;bottom: 0;left: 50%;z-index: -1;}#sk-container-id-3 div.sk-parallel-item {display: flex;flex-direction: column;z-index: 1;position: relative;background-color: white;}#sk-container-id-3 div.sk-parallel-item:first-child::after {align-self: flex-end;width: 50%;}#sk-container-id-3 div.sk-parallel-item:last-child::after {align-self: flex-start;width: 50%;}#sk-container-id-3 div.sk-parallel-item:only-child::after {width: 0;}#sk-container-id-3 div.sk-dashed-wrapped {border: 1px dashed gray;margin: 0 0.4em 0.5em 0.4em;box-sizing: border-box;padding-bottom: 0.4em;background-color: white;}#sk-container-id-3 div.sk-label label {font-family: monospace;font-weight: bold;display: inline-block;line-height: 1.2em;}#sk-container-id-3 div.sk-label-container {text-align: center;}#sk-container-id-3 div.sk-container {/* jupyter's `normalize.less` sets `[hidden] { display: none; }` but bootstrap.min.css set `[hidden] { display: none !important; }` so we also need the `!important` here to be able to override the default hidden behavior on the sphinx rendered scikit-learn.org. See: https://github.com/scikit-learn/scikit-learn/issues/21755 */display: inline-block !important;position: relative;}#sk-container-id-3 div.sk-text-repr-fallback {display: none;}</style><div id=\"sk-container-id-3\" class=\"sk-top-container\"><div class=\"sk-text-repr-fallback\"><pre>XGBClassifier(base_score=None, booster=None, callbacks=None,\n",
       "              colsample_bylevel=None, colsample_bynode=None,\n",
       "              colsample_bytree=None, device=None, early_stopping_rounds=None,\n",
       "              enable_categorical=False, eval_metric=None, feature_types=None,\n",
       "              gamma=None, grow_policy=None, importance_type=None,\n",
       "              interaction_constraints=None, learning_rate=0.01, max_bin=None,\n",
       "              max_cat_threshold=None, max_cat_to_onehot=None,\n",
       "              max_delta_step=None, max_depth=10, max_leaves=None,\n",
       "              min_child_weight=None, missing=nan, monotone_constraints=None,\n",
       "              multi_strategy=None, n_estimators=1000, n_jobs=None,\n",
       "              num_parallel_tree=None, objective=&#x27;multi:softprob&#x27;, ...)</pre><b>In a Jupyter environment, please rerun this cell to show the HTML representation or trust the notebook. <br />On GitHub, the HTML representation is unable to render, please try loading this page with nbviewer.org.</b></div><div class=\"sk-container\" hidden><div class=\"sk-item\"><div class=\"sk-estimator sk-toggleable\"><input class=\"sk-toggleable__control sk-hidden--visually\" id=\"sk-estimator-id-3\" type=\"checkbox\" checked><label for=\"sk-estimator-id-3\" class=\"sk-toggleable__label sk-toggleable__label-arrow\">XGBClassifier</label><div class=\"sk-toggleable__content\"><pre>XGBClassifier(base_score=None, booster=None, callbacks=None,\n",
       "              colsample_bylevel=None, colsample_bynode=None,\n",
       "              colsample_bytree=None, device=None, early_stopping_rounds=None,\n",
       "              enable_categorical=False, eval_metric=None, feature_types=None,\n",
       "              gamma=None, grow_policy=None, importance_type=None,\n",
       "              interaction_constraints=None, learning_rate=0.01, max_bin=None,\n",
       "              max_cat_threshold=None, max_cat_to_onehot=None,\n",
       "              max_delta_step=None, max_depth=10, max_leaves=None,\n",
       "              min_child_weight=None, missing=nan, monotone_constraints=None,\n",
       "              multi_strategy=None, n_estimators=1000, n_jobs=None,\n",
       "              num_parallel_tree=None, objective=&#x27;multi:softprob&#x27;, ...)</pre></div></div></div></div></div>"
      ],
      "text/plain": [
       "XGBClassifier(base_score=None, booster=None, callbacks=None,\n",
       "              colsample_bylevel=None, colsample_bynode=None,\n",
       "              colsample_bytree=None, device=None, early_stopping_rounds=None,\n",
       "              enable_categorical=False, eval_metric=None, feature_types=None,\n",
       "              gamma=None, grow_policy=None, importance_type=None,\n",
       "              interaction_constraints=None, learning_rate=0.01, max_bin=None,\n",
       "              max_cat_threshold=None, max_cat_to_onehot=None,\n",
       "              max_delta_step=None, max_depth=10, max_leaves=None,\n",
       "              min_child_weight=None, missing=nan, monotone_constraints=None,\n",
       "              multi_strategy=None, n_estimators=1000, n_jobs=None,\n",
       "              num_parallel_tree=None, objective='multi:softprob', ...)"
      ]
     },
     "execution_count": 45,
     "metadata": {},
     "output_type": "execute_result"
    }
   ],
   "source": [
    "model = xgb.XGBClassifier(max_depth=10, n_estimators=1000, learning_rate=0.01)\n",
    "model.fit(X_train, y_train)"
   ]
  },
  {
   "cell_type": "code",
   "execution_count": 46,
   "id": "b81fe5de",
   "metadata": {},
   "outputs": [
    {
     "name": "stdout",
     "output_type": "stream",
     "text": [
      "              precision    recall  f1-score   support\n",
      "\n",
      "           0       0.81      0.73      0.77     15549\n",
      "           1       0.84      0.10      0.18      4965\n",
      "           2       0.86      0.97      0.91     44697\n",
      "\n",
      "    accuracy                           0.85     65211\n",
      "   macro avg       0.84      0.60      0.62     65211\n",
      "weighted avg       0.85      0.85      0.82     65211\n",
      "\n",
      "Confusion matrix of XGBoost:\n",
      "\n"
     ]
    },
    {
     "data": {
      "text/html": [
       "<div>\n",
       "<style scoped>\n",
       "    .dataframe tbody tr th:only-of-type {\n",
       "        vertical-align: middle;\n",
       "    }\n",
       "\n",
       "    .dataframe tbody tr th {\n",
       "        vertical-align: top;\n",
       "    }\n",
       "\n",
       "    .dataframe thead th {\n",
       "        text-align: right;\n",
       "    }\n",
       "</style>\n",
       "<table border=\"1\" class=\"dataframe\">\n",
       "  <thead>\n",
       "    <tr style=\"text-align: right;\">\n",
       "      <th>Predicted sentiment</th>\n",
       "      <th>0</th>\n",
       "      <th>1</th>\n",
       "      <th>2</th>\n",
       "    </tr>\n",
       "    <tr>\n",
       "      <th>Real sentiment</th>\n",
       "      <th></th>\n",
       "      <th></th>\n",
       "      <th></th>\n",
       "    </tr>\n",
       "  </thead>\n",
       "  <tbody>\n",
       "    <tr>\n",
       "      <th>0</th>\n",
       "      <td>11370</td>\n",
       "      <td>57</td>\n",
       "      <td>4122</td>\n",
       "    </tr>\n",
       "    <tr>\n",
       "      <th>1</th>\n",
       "      <td>1379</td>\n",
       "      <td>495</td>\n",
       "      <td>3091</td>\n",
       "    </tr>\n",
       "    <tr>\n",
       "      <th>2</th>\n",
       "      <td>1226</td>\n",
       "      <td>40</td>\n",
       "      <td>43431</td>\n",
       "    </tr>\n",
       "  </tbody>\n",
       "</table>\n",
       "</div>"
      ],
      "text/plain": [
       "Predicted sentiment      0    1      2\n",
       "Real sentiment                        \n",
       "0                    11370   57   4122\n",
       "1                     1379  495   3091\n",
       "2                     1226   40  43431"
      ]
     },
     "execution_count": 46,
     "metadata": {},
     "output_type": "execute_result"
    }
   ],
   "source": [
    "y_pred = model.predict(X_test)\n",
    "print(classification_report(y_test, y_pred))\n",
    "print(\"Confusion matrix of XGBoost:\\n\")\n",
    "pd.crosstab(y_test, y_pred,rownames=[\"Real sentiment\"], colnames=[\"Predicted sentiment\"])"
   ]
  },
  {
   "cell_type": "code",
   "execution_count": 47,
   "id": "3da7622d",
   "metadata": {},
   "outputs": [
    {
     "name": "stdout",
     "output_type": "stream",
     "text": [
      "The accuracy of XGBoost model for train test: 0.8610620181488482\n",
      "The accuracy of XGBoost model for test set: 0.8479550995997608\n"
     ]
    }
   ],
   "source": [
    "y_train_xgb=model.predict(X_train)\n",
    "accuracy_train=accuracy_score(y_train,y_train_xgb)\n",
    "print('The accuracy of XGBoost model for train test:',accuracy_train)\n",
    "y_test_xgb=model.predict(X_test)\n",
    "accuracy_test=accuracy_score(y_test, y_test_xgb)\n",
    "print('The accuracy of XGBoost model for test set:', accuracy_test)"
   ]
  },
  {
   "cell_type": "markdown",
   "id": "96133898",
   "metadata": {},
   "source": [
    "## The best model for the sentiment analysis was the Random Forest with Count/Tfidf Vectorizer"
   ]
  },
  {
   "cell_type": "code",
   "execution_count": null,
   "id": "ba5e6a64",
   "metadata": {},
   "outputs": [],
   "source": []
  }
 ],
 "metadata": {
  "kernelspec": {
   "display_name": "Python 3 (ipykernel)",
   "language": "python",
   "name": "python3"
  },
  "language_info": {
   "codemirror_mode": {
    "name": "ipython",
    "version": 3
   },
   "file_extension": ".py",
   "mimetype": "text/x-python",
   "name": "python",
   "nbconvert_exporter": "python",
   "pygments_lexer": "ipython3",
   "version": "3.11.5"
  }
 },
 "nbformat": 4,
 "nbformat_minor": 5
}
