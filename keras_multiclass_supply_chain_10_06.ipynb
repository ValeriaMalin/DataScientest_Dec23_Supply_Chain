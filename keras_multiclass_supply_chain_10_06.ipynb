{
 "cells": [
  {
   "cell_type": "code",
   "execution_count": 2,
   "id": "917884a2",
   "metadata": {
    "scrolled": false
   },
   "outputs": [],
   "source": [
    "#importing necessary libaries \n",
    "#I have tried to harvest all the packages we used\n",
    "#but maybe there are some missing\n",
    "import pandas as pd\n",
    "import matplotlib.pyplot as plt\n",
    "import numpy as np\n",
    "import seaborn as sns\n",
    "\n",
    "from sklearn.model_selection import train_test_split\n",
    "from sklearn.feature_extraction.text import CountVectorizer\n",
    "from sklearn.feature_extraction.text import TfidfVectorizer\n",
    "\n",
    "from sklearn.metrics import classification_report\n",
    "from sklearn.metrics import accuracy_score\n",
    "from sklearn.metrics import classification_report\n",
    "from imblearn.over_sampling import RandomOverSampler, SMOTE\n",
    "from imblearn.under_sampling import RandomUnderSampler\n",
    "from imblearn.metrics import classification_report_imbalanced\n",
    "\n",
    "\n",
    "\n",
    "from sklearn.model_selection import train_test_split\n",
    "from keras.utils import to_categorical\n",
    "from keras.layers import Dense, Dropout, Conv1D, MaxPool1D, GlobalMaxPool1D, Embedding, Activation, Flatten\n",
    "from keras.models import Sequential\n",
    "from sklearn import preprocessing\n",
    "from keras.utils import to_categorical\n",
    "from keras.preprocessing.text import Tokenizer\n",
    "from keras.preprocessing.sequence import pad_sequences\n",
    "import gensim\n",
    "\n",
    "\n",
    "\n"
   ]
  },
  {
   "cell_type": "markdown",
   "id": "1c7381e4",
   "metadata": {},
   "source": [
    "# I use Word2Vec object created from the text review to train CNN"
   ]
  },
  {
   "cell_type": "code",
   "execution_count": 3,
   "id": "3f4b7fce",
   "metadata": {},
   "outputs": [
    {
     "data": {
      "text/html": [
       "<div>\n",
       "<style scoped>\n",
       "    .dataframe tbody tr th:only-of-type {\n",
       "        vertical-align: middle;\n",
       "    }\n",
       "\n",
       "    .dataframe tbody tr th {\n",
       "        vertical-align: top;\n",
       "    }\n",
       "\n",
       "    .dataframe thead th {\n",
       "        text-align: right;\n",
       "    }\n",
       "</style>\n",
       "<table border=\"1\" class=\"dataframe\">\n",
       "  <thead>\n",
       "    <tr style=\"text-align: right;\">\n",
       "      <th></th>\n",
       "      <th>Product Name</th>\n",
       "      <th>Brand Name</th>\n",
       "      <th>Price</th>\n",
       "      <th>Stars</th>\n",
       "      <th>Text</th>\n",
       "      <th>Review Votes</th>\n",
       "      <th>AverageRating</th>\n",
       "      <th>ReviewsNumber</th>\n",
       "      <th>Sentiment</th>\n",
       "      <th>Review length</th>\n",
       "      <th>Word count</th>\n",
       "      <th>emoji</th>\n",
       "    </tr>\n",
       "  </thead>\n",
       "  <tbody>\n",
       "    <tr>\n",
       "      <th>0</th>\n",
       "      <td>\"CLEAR CLEAN ESN\" Sprint EPIC 4G Galaxy SPH-D7...</td>\n",
       "      <td>SAMSUNG</td>\n",
       "      <td>199.99</td>\n",
       "      <td>5</td>\n",
       "      <td>feel lucky found used phone us used hard phone...</td>\n",
       "      <td>1.0</td>\n",
       "      <td>3.702703</td>\n",
       "      <td>37</td>\n",
       "      <td>Positive</td>\n",
       "      <td>374</td>\n",
       "      <td>72</td>\n",
       "      <td>[]</td>\n",
       "    </tr>\n",
       "    <tr>\n",
       "      <th>1</th>\n",
       "      <td>\"CLEAR CLEAN ESN\" Sprint EPIC 4G Galaxy SPH-D7...</td>\n",
       "      <td>SAMSUNG</td>\n",
       "      <td>199.99</td>\n",
       "      <td>4</td>\n",
       "      <td>nice phone nice grade pantach revue clean set ...</td>\n",
       "      <td>0.0</td>\n",
       "      <td>3.702703</td>\n",
       "      <td>37</td>\n",
       "      <td>Positive</td>\n",
       "      <td>214</td>\n",
       "      <td>40</td>\n",
       "      <td>[]</td>\n",
       "    </tr>\n",
       "    <tr>\n",
       "      <th>2</th>\n",
       "      <td>\"CLEAR CLEAN ESN\" Sprint EPIC 4G Galaxy SPH-D7...</td>\n",
       "      <td>SAMSUNG</td>\n",
       "      <td>199.99</td>\n",
       "      <td>5</td>\n",
       "      <td>pleased</td>\n",
       "      <td>0.0</td>\n",
       "      <td>3.702703</td>\n",
       "      <td>37</td>\n",
       "      <td>Positive</td>\n",
       "      <td>12</td>\n",
       "      <td>2</td>\n",
       "      <td>[]</td>\n",
       "    </tr>\n",
       "    <tr>\n",
       "      <th>3</th>\n",
       "      <td>\"CLEAR CLEAN ESN\" Sprint EPIC 4G Galaxy SPH-D7...</td>\n",
       "      <td>SAMSUNG</td>\n",
       "      <td>199.99</td>\n",
       "      <td>4</td>\n",
       "      <td>works good goes slow sometimes good phone love</td>\n",
       "      <td>0.0</td>\n",
       "      <td>3.702703</td>\n",
       "      <td>37</td>\n",
       "      <td>Positive</td>\n",
       "      <td>76</td>\n",
       "      <td>17</td>\n",
       "      <td>[]</td>\n",
       "    </tr>\n",
       "    <tr>\n",
       "      <th>4</th>\n",
       "      <td>\"CLEAR CLEAN ESN\" Sprint EPIC 4G Galaxy SPH-D7...</td>\n",
       "      <td>SAMSUNG</td>\n",
       "      <td>199.99</td>\n",
       "      <td>4</td>\n",
       "      <td>great phone replace lost phone thing volume bu...</td>\n",
       "      <td>0.0</td>\n",
       "      <td>3.702703</td>\n",
       "      <td>37</td>\n",
       "      <td>Positive</td>\n",
       "      <td>223</td>\n",
       "      <td>43</td>\n",
       "      <td>[]</td>\n",
       "    </tr>\n",
       "  </tbody>\n",
       "</table>\n",
       "</div>"
      ],
      "text/plain": [
       "                                        Product Name Brand Name   Price  \\\n",
       "0  \"CLEAR CLEAN ESN\" Sprint EPIC 4G Galaxy SPH-D7...    SAMSUNG  199.99   \n",
       "1  \"CLEAR CLEAN ESN\" Sprint EPIC 4G Galaxy SPH-D7...    SAMSUNG  199.99   \n",
       "2  \"CLEAR CLEAN ESN\" Sprint EPIC 4G Galaxy SPH-D7...    SAMSUNG  199.99   \n",
       "3  \"CLEAR CLEAN ESN\" Sprint EPIC 4G Galaxy SPH-D7...    SAMSUNG  199.99   \n",
       "4  \"CLEAR CLEAN ESN\" Sprint EPIC 4G Galaxy SPH-D7...    SAMSUNG  199.99   \n",
       "\n",
       "   Stars                                               Text  Review Votes  \\\n",
       "0      5  feel lucky found used phone us used hard phone...           1.0   \n",
       "1      4  nice phone nice grade pantach revue clean set ...           0.0   \n",
       "2      5                                            pleased           0.0   \n",
       "3      4     works good goes slow sometimes good phone love           0.0   \n",
       "4      4  great phone replace lost phone thing volume bu...           0.0   \n",
       "\n",
       "   AverageRating  ReviewsNumber Sentiment  Review length  Word count emoji  \n",
       "0       3.702703             37  Positive            374          72    []  \n",
       "1       3.702703             37  Positive            214          40    []  \n",
       "2       3.702703             37  Positive             12           2    []  \n",
       "3       3.702703             37  Positive             76          17    []  \n",
       "4       3.702703             37  Positive            223          43    []  "
      ]
     },
     "execution_count": 3,
     "metadata": {},
     "output_type": "execute_result"
    }
   ],
   "source": [
    "df=pd.read_csv(\"supply_chain_text_prep_06_06.csv\", sep=',')\n",
    "df.head()"
   ]
  },
  {
   "cell_type": "code",
   "execution_count": 4,
   "id": "27b218d0",
   "metadata": {},
   "outputs": [
    {
     "name": "stdout",
     "output_type": "stream",
     "text": [
      "<class 'pandas.core.frame.DataFrame'>\n",
      "RangeIndex: 326799 entries, 0 to 326798\n",
      "Data columns (total 12 columns):\n",
      " #   Column         Non-Null Count   Dtype  \n",
      "---  ------         --------------   -----  \n",
      " 0   Product Name   326799 non-null  object \n",
      " 1   Brand Name     326799 non-null  object \n",
      " 2   Price          321825 non-null  float64\n",
      " 3   Stars          326799 non-null  int64  \n",
      " 4   Text           326054 non-null  object \n",
      " 5   Review Votes   326799 non-null  float64\n",
      " 6   AverageRating  326799 non-null  float64\n",
      " 7   ReviewsNumber  326799 non-null  int64  \n",
      " 8   Sentiment      326799 non-null  object \n",
      " 9   Review length  326799 non-null  int64  \n",
      " 10  Word count     326799 non-null  int64  \n",
      " 11  emoji          326799 non-null  object \n",
      "dtypes: float64(3), int64(4), object(5)\n",
      "memory usage: 29.9+ MB\n"
     ]
    }
   ],
   "source": [
    "df.info()"
   ]
  },
  {
   "cell_type": "code",
   "execution_count": 5,
   "id": "1200f756",
   "metadata": {},
   "outputs": [],
   "source": [
    "#we have some NaNs in Text\n",
    "df.dropna(subset = ['Text'], inplace=True)\n",
    "\n",
    "\n",
    "#and I removed them"
   ]
  },
  {
   "cell_type": "code",
   "execution_count": 6,
   "id": "0255167c",
   "metadata": {},
   "outputs": [
    {
     "data": {
      "text/plain": [
       "(185020696, 348562950)"
      ]
     },
     "execution_count": 6,
     "metadata": {},
     "output_type": "execute_result"
    }
   ],
   "source": [
    "#Word2Vec objects and CNN\n",
    "import gensim\n",
    "review_text = df['Text'].apply(gensim.utils.simple_preprocess)\n",
    "model = gensim.models.Word2Vec(window=10, \n",
    "                               min_count=5, \n",
    "                               workers=4, \n",
    "                               alpha=0.01,\n",
    "                               negative=20,\n",
    "                               sample=0.0001)\n",
    "# min_count :int - Ignores all words with total absolute frequency lower than this - (2, 100)\n",
    "# window: = int - The maximum distance between the current and predicted word within a sentence\n",
    "# alpha = float - The initial learning rate - (0.01, 0.05)\n",
    "#negative = int - If > 0, negative sampling will be used, the int for negative specifies how many \"noise words\" \n",
    "     #should be drown. If set to 0, no negative sampling is used. \n",
    "#workers = int - Use these many worker threads to train the model (=faster training with multicore machines)\n",
    "#sample = float - The threshold for configuring which higher-frequency words \n",
    "           #are randomly downsampled. Highly influencial. - (0, 1e-5)\n",
    "\n",
    "review_text = df['Text'].apply(gensim.utils.simple_preprocess)\n",
    "model.build_vocab(review_text, progress_per=10000)\n",
    "model.train(review_text, total_examples=model.corpus_count, epochs=50, report_delay=1)"
   ]
  },
  {
   "cell_type": "code",
   "execution_count": 7,
   "id": "81bed4f0",
   "metadata": {},
   "outputs": [
    {
     "name": "stdout",
     "output_type": "stream",
     "text": [
      "Word2Vec<vocab=26139, vector_size=100, alpha=0.01>\n"
     ]
    }
   ],
   "source": [
    "print(model)"
   ]
  },
  {
   "cell_type": "code",
   "execution_count": 8,
   "id": "b27d445a",
   "metadata": {},
   "outputs": [
    {
     "name": "stdout",
     "output_type": "stream",
     "text": [
      "[[208, 1772, 180, 34, 1, 130, 34, 201, 1, 505, 345, 767, 534, 5, 411, 468, 92, 5, 413, 1037, 1253, 224, 60, 66, 289, 2, 2, 210, 59, 14, 1450, 4166, 123, 34, 1060, 58, 59, 344, 11, 2, 2], [31, 1, 31, 3056, 717, 178, 71, 178, 74, 44, 1, 514, 374, 51, 96, 1668, 1228, 770, 3, 1]]\n"
     ]
    }
   ],
   "source": [
    "token = Tokenizer(25718)\n",
    "token.fit_on_texts(df['Text'])\n",
    "text = token.texts_to_sequences(df['Text'])\n",
    "\n",
    "print(text[:2])\n"
   ]
  },
  {
   "cell_type": "code",
   "execution_count": 9,
   "id": "31dcd6b9",
   "metadata": {},
   "outputs": [],
   "source": [
    "df.Sentiment = df.Sentiment.replace(['Positive','Negative','Neutral'],[2,0,1])"
   ]
  },
  {
   "cell_type": "code",
   "execution_count": 10,
   "id": "adf18edf",
   "metadata": {},
   "outputs": [],
   "source": [
    "X_train, X_test, y_train, y_test = train_test_split(text, df.Sentiment, test_size=0.2, stratify=df.Sentiment)"
   ]
  },
  {
   "cell_type": "code",
   "execution_count": 11,
   "id": "33235e0d",
   "metadata": {},
   "outputs": [],
   "source": [
    "y_train = to_categorical(y_train)\n",
    "y_test = to_categorical(y_test)\n",
    "\n",
    "max_length = 100\n",
    "X_train = pad_sequences(X_train, maxlen=max_length, padding='post')\n",
    "X_test = pad_sequences(X_test, maxlen=max_length, padding='post')\n",
    "vocab_size = len(token.word_index) + 1\n",
    "\n",
    "embedding_matrix = np.zeros((vocab_size, 100))\n",
    "for word, i in token.word_index.items():\n",
    "    if word in model.wv:\n",
    "        embedding_matrix[i] = model.wv[word]\n"
   ]
  },
  {
   "cell_type": "code",
   "execution_count": 12,
   "id": "6199a234",
   "metadata": {},
   "outputs": [
    {
     "data": {
      "text/plain": [
       "(260843, 3)"
      ]
     },
     "execution_count": 12,
     "metadata": {},
     "output_type": "execute_result"
    }
   ],
   "source": [
    "y_train.shape"
   ]
  },
  {
   "cell_type": "code",
   "execution_count": 15,
   "id": "7959f234",
   "metadata": {},
   "outputs": [
    {
     "name": "stdout",
     "output_type": "stream",
     "text": [
      "Epoch 1/15\n",
      "5217/5217 [==============================] - 204s 39ms/step - loss: 0.4073 - accuracy: 0.8545 - val_loss: 0.3701 - val_accuracy: 0.8668\n",
      "Epoch 2/15\n",
      "5217/5217 [==============================] - 202s 39ms/step - loss: 0.3409 - accuracy: 0.8778 - val_loss: 0.3383 - val_accuracy: 0.8797\n",
      "Epoch 3/15\n",
      "5217/5217 [==============================] - 214s 41ms/step - loss: 0.2942 - accuracy: 0.8959 - val_loss: 0.3120 - val_accuracy: 0.8917\n",
      "Epoch 4/15\n",
      "5217/5217 [==============================] - 209s 40ms/step - loss: 0.2546 - accuracy: 0.9123 - val_loss: 0.3025 - val_accuracy: 0.8983\n",
      "Epoch 5/15\n",
      "5217/5217 [==============================] - 203s 39ms/step - loss: 0.2230 - accuracy: 0.9245 - val_loss: 0.3104 - val_accuracy: 0.8985\n",
      "Epoch 6/15\n",
      "5217/5217 [==============================] - 204s 39ms/step - loss: 0.1981 - accuracy: 0.9331 - val_loss: 0.3011 - val_accuracy: 0.9070\n",
      "Epoch 7/15\n",
      "5217/5217 [==============================] - 220s 42ms/step - loss: 0.1776 - accuracy: 0.9409 - val_loss: 0.3018 - val_accuracy: 0.9102\n",
      "Epoch 8/15\n",
      "5217/5217 [==============================] - 210s 40ms/step - loss: 0.1617 - accuracy: 0.9466 - val_loss: 0.3091 - val_accuracy: 0.9112\n",
      "Epoch 9/15\n",
      "5217/5217 [==============================] - 207s 40ms/step - loss: 0.1468 - accuracy: 0.9522 - val_loss: 0.3009 - val_accuracy: 0.9138\n",
      "Epoch 10/15\n",
      "5217/5217 [==============================] - 208s 40ms/step - loss: 0.1344 - accuracy: 0.9564 - val_loss: 0.3249 - val_accuracy: 0.9156\n",
      "Epoch 11/15\n",
      "5217/5217 [==============================] - 209s 40ms/step - loss: 0.1250 - accuracy: 0.9596 - val_loss: 0.3560 - val_accuracy: 0.9175\n",
      "Epoch 12/15\n",
      "5217/5217 [==============================] - 207s 40ms/step - loss: 0.1167 - accuracy: 0.9629 - val_loss: 0.3433 - val_accuracy: 0.9167\n",
      "Epoch 13/15\n",
      "5217/5217 [==============================] - 208s 40ms/step - loss: 0.1099 - accuracy: 0.9650 - val_loss: 0.3917 - val_accuracy: 0.9183\n",
      "Epoch 14/15\n",
      "5217/5217 [==============================] - 205s 39ms/step - loss: 0.1038 - accuracy: 0.9672 - val_loss: 0.3593 - val_accuracy: 0.9153\n",
      "Epoch 15/15\n",
      "5217/5217 [==============================] - 213s 41ms/step - loss: 0.0999 - accuracy: 0.9688 - val_loss: 0.3796 - val_accuracy: 0.9199\n"
     ]
    }
   ],
   "source": [
    "# Define the CNN model\n",
    "model = Sequential()\n",
    "model.add(Embedding(vocab_size, 100, weights=[embedding_matrix], input_length=max_length))\n",
    "model.add(Conv1D(128, 5, activation='relu'))\n",
    "model.add(MaxPool1D(5))\n",
    "model.add(Conv1D(128, 5, activation='relu'))\n",
    "model.add(MaxPool1D(5))\n",
    "model.add(Dropout(0.2))\n",
    "model.add(Flatten())\n",
    "model.add(Dense(128, activation='relu'))\n",
    "model.add(Dense(3, activation='softmax'))\n",
    "\n",
    "model.compile(optimizer='adam', loss='categorical_crossentropy', metrics=['accuracy'])\n",
    "\n",
    "#the number of epoch was higher, but I reduced to optimal (Unfortunately I did not install early stopp callback)\n",
    "\n",
    "training_history_1=model.fit(X_train, y_train, epochs=15, batch_size=50, validation_data=(X_test, y_test))"
   ]
  },
  {
   "cell_type": "code",
   "execution_count": 24,
   "id": "007d7ce0",
   "metadata": {},
   "outputs": [
    {
     "name": "stdout",
     "output_type": "stream",
     "text": [
      "Model: \"sequential_3\"\n",
      "_________________________________________________________________\n",
      " Layer (type)                Output Shape              Param #   \n",
      "=================================================================\n",
      " embedding_3 (Embedding)     (None, 100, 100)          11118900  \n",
      "                                                                 \n",
      " conv1d_6 (Conv1D)           (None, 96, 128)           64128     \n",
      "                                                                 \n",
      " max_pooling1d_6 (MaxPoolin  (None, 19, 128)           0         \n",
      " g1D)                                                            \n",
      "                                                                 \n",
      " conv1d_7 (Conv1D)           (None, 15, 128)           82048     \n",
      "                                                                 \n",
      " max_pooling1d_7 (MaxPoolin  (None, 3, 128)            0         \n",
      " g1D)                                                            \n",
      "                                                                 \n",
      " dropout_3 (Dropout)         (None, 3, 128)            0         \n",
      "                                                                 \n",
      " flatten_3 (Flatten)         (None, 384)               0         \n",
      "                                                                 \n",
      " dense_6 (Dense)             (None, 128)               49280     \n",
      "                                                                 \n",
      " dense_7 (Dense)             (None, 3)                 387       \n",
      "                                                                 \n",
      "=================================================================\n",
      "Total params: 11314743 (43.16 MB)\n",
      "Trainable params: 11314743 (43.16 MB)\n",
      "Non-trainable params: 0 (0.00 Byte)\n",
      "_________________________________________________________________\n"
     ]
    }
   ],
   "source": [
    "model.summary()"
   ]
  },
  {
   "cell_type": "code",
   "execution_count": 17,
   "id": "007cc0c8",
   "metadata": {},
   "outputs": [],
   "source": [
    "train_acc = training_history_1.history['accuracy']\n",
    "val_acc = training_history_1.history['val_accuracy']\n",
    "train_loss=training_history_1.history['loss']\n",
    "val_loss = training_history_1.history['val_loss']"
   ]
  },
  {
   "cell_type": "code",
   "execution_count": 19,
   "id": "ee831f8e",
   "metadata": {},
   "outputs": [
    {
     "data": {
      "image/png": "[encoded data removed]",
      "text/plain": [
       "<Figure size 640x480 with 1 Axes>"
      ]
     },
     "metadata": {},
     "output_type": "display_data"
    }
   ],
   "source": [
    "\n",
    "# Labels des axes\n",
    "plt.xlabel('Epochs')\n",
    "plt.ylabel('Accuracy/Loss')\n",
    "\n",
    "# Courbe de la précision sur l'échantillon d'entrainement\n",
    "plt.plot(np.arange(1 , 16, 1),\n",
    "         training_history_1.history['accuracy'],\n",
    "         label = 'Training Accuracy',\n",
    "         color = 'blue')\n",
    "\n",
    "# Courbe de la précision sur l'échantillon de test\n",
    "plt.plot(np.arange(1 , 16, 1),\n",
    "         training_history_1.history['val_accuracy'], \n",
    "         label = 'Validation Accuracy',\n",
    "         color = 'red')\n",
    "\n",
    "plt.plot(np.arange(1 , 16, 1),\n",
    "        training_history_1.history['loss'], \n",
    "        label = 'Training Loss',\n",
    "         color = 'green')\n",
    "plt.plot(np.arange(1 , 16, 1),\n",
    "         training_history_1.history['val_loss'], \n",
    "         label = 'Validation Loss',\n",
    "         color = 'orange')\n",
    "\n",
    "# Affichage de la légende\n",
    "plt.legend()\n",
    "\n",
    "# Affichage de la figure\n",
    "plt.show()"
   ]
  },
  {
   "cell_type": "code",
   "execution_count": 22,
   "id": "1e86d31e",
   "metadata": {},
   "outputs": [
    {
     "name": "stdout",
     "output_type": "stream",
     "text": [
      "2038/2038 [==============================] - 6s 3ms/step\n",
      "Classiciation report of CNN\n",
      "               precision    recall  f1-score   support\n",
      "\n",
      "           0       0.88      0.90      0.89     15653\n",
      "           1       0.70      0.58      0.63      5012\n",
      "           2       0.95      0.96      0.96     44546\n",
      "\n",
      "    accuracy                           0.92     65211\n",
      "   macro avg       0.85      0.81      0.83     65211\n",
      "weighted avg       0.92      0.92      0.92     65211\n",
      "\n",
      "Confusion matrix of CNN:\n",
      "\n"
     ]
    },
    {
     "data": {
      "text/html": [
       "<div>\n",
       "<style scoped>\n",
       "    .dataframe tbody tr th:only-of-type {\n",
       "        vertical-align: middle;\n",
       "    }\n",
       "\n",
       "    .dataframe tbody tr th {\n",
       "        vertical-align: top;\n",
       "    }\n",
       "\n",
       "    .dataframe thead th {\n",
       "        text-align: right;\n",
       "    }\n",
       "</style>\n",
       "<table border=\"1\" class=\"dataframe\">\n",
       "  <thead>\n",
       "    <tr style=\"text-align: right;\">\n",
       "      <th>Predicted sentiment</th>\n",
       "      <th>0</th>\n",
       "      <th>1</th>\n",
       "      <th>2</th>\n",
       "    </tr>\n",
       "    <tr>\n",
       "      <th>Real sentiment</th>\n",
       "      <th></th>\n",
       "      <th></th>\n",
       "      <th></th>\n",
       "    </tr>\n",
       "  </thead>\n",
       "  <tbody>\n",
       "    <tr>\n",
       "      <th>0</th>\n",
       "      <td>14157</td>\n",
       "      <td>521</td>\n",
       "      <td>975</td>\n",
       "    </tr>\n",
       "    <tr>\n",
       "      <th>1</th>\n",
       "      <td>972</td>\n",
       "      <td>2883</td>\n",
       "      <td>1157</td>\n",
       "    </tr>\n",
       "    <tr>\n",
       "      <th>2</th>\n",
       "      <td>874</td>\n",
       "      <td>724</td>\n",
       "      <td>42948</td>\n",
       "    </tr>\n",
       "  </tbody>\n",
       "</table>\n",
       "</div>"
      ],
      "text/plain": [
       "Predicted sentiment      0     1      2\n",
       "Real sentiment                         \n",
       "0                    14157   521    975\n",
       "1                      972  2883   1157\n",
       "2                      874   724  42948"
      ]
     },
     "execution_count": 22,
     "metadata": {},
     "output_type": "execute_result"
    }
   ],
   "source": [
    "from sklearn.metrics import classification_report\n",
    "test_pred = model.predict(X_test)\n",
    "\n",
    "test_pred_class = test_pred.argmax(axis = 1)\n",
    "y_test_class = y_test.argmax(axis=1)\n",
    "\n",
    "print(\"Classifiation report of CNN\\n\", classification_report(y_test_class, test_pred_class))\n",
    "print(\"Confusion matrix of CNN:\\n\")\n",
    "\n",
    "pd.crosstab(y_test_class,test_pred_class, rownames=['Real sentiment'], colnames=['Predicted sentiment'])"
   ]
  },
  {
   "cell_type": "markdown",
   "id": "d8f1822f",
   "metadata": {},
   "source": [
    "## with Tanh activation function"
   ]
  },
  {
   "cell_type": "code",
   "execution_count": 23,
   "id": "ee41bfa7",
   "metadata": {},
   "outputs": [
    {
     "name": "stdout",
     "output_type": "stream",
     "text": [
      "Epoch 1/15\n",
      "5217/5217 [==============================] - 210s 40ms/step - loss: 0.4095 - accuracy: 0.8529 - val_loss: 0.3728 - val_accuracy: 0.8669\n",
      "Epoch 2/15\n",
      "5217/5217 [==============================] - 204s 39ms/step - loss: 0.3507 - accuracy: 0.8748 - val_loss: 0.3547 - val_accuracy: 0.8726\n",
      "Epoch 3/15\n",
      "5217/5217 [==============================] - 198s 38ms/step - loss: 0.3203 - accuracy: 0.8861 - val_loss: 0.3384 - val_accuracy: 0.8835\n",
      "Epoch 4/15\n",
      "5217/5217 [==============================] - 195s 37ms/step - loss: 0.2974 - accuracy: 0.8957 - val_loss: 0.3276 - val_accuracy: 0.8861\n",
      "Epoch 5/15\n",
      "5217/5217 [==============================] - 200s 38ms/step - loss: 0.2775 - accuracy: 0.9041 - val_loss: 0.3217 - val_accuracy: 0.8906\n",
      "Epoch 6/15\n",
      "5217/5217 [==============================] - 204s 39ms/step - loss: 0.2627 - accuracy: 0.9099 - val_loss: 0.3191 - val_accuracy: 0.8944\n",
      "Epoch 7/15\n",
      "5217/5217 [==============================] - 205s 39ms/step - loss: 0.2488 - accuracy: 0.9157 - val_loss: 0.3147 - val_accuracy: 0.8955\n",
      "Epoch 8/15\n",
      "5217/5217 [==============================] - 202s 39ms/step - loss: 0.2379 - accuracy: 0.9199 - val_loss: 0.3173 - val_accuracy: 0.8950\n",
      "Epoch 9/15\n",
      "5217/5217 [==============================] - 202s 39ms/step - loss: 0.2275 - accuracy: 0.9239 - val_loss: 0.3093 - val_accuracy: 0.8994\n",
      "Epoch 10/15\n",
      "5217/5217 [==============================] - 206s 40ms/step - loss: 0.2208 - accuracy: 0.9266 - val_loss: 0.3140 - val_accuracy: 0.9011\n",
      "Epoch 11/15\n",
      "5217/5217 [==============================] - 201s 38ms/step - loss: 0.2119 - accuracy: 0.9303 - val_loss: 0.3028 - val_accuracy: 0.9028\n",
      "Epoch 12/15\n",
      "5217/5217 [==============================] - 202s 39ms/step - loss: 0.2044 - accuracy: 0.9330 - val_loss: 0.3111 - val_accuracy: 0.9031\n",
      "Epoch 13/15\n",
      "5217/5217 [==============================] - 207s 40ms/step - loss: 0.1992 - accuracy: 0.9350 - val_loss: 0.3059 - val_accuracy: 0.9025\n",
      "Epoch 14/15\n",
      "5217/5217 [==============================] - 210s 40ms/step - loss: 0.1920 - accuracy: 0.9376 - val_loss: 0.3107 - val_accuracy: 0.9040\n",
      "Epoch 15/15\n",
      "5217/5217 [==============================] - 214s 41ms/step - loss: 0.1893 - accuracy: 0.9381 - val_loss: 0.3097 - val_accuracy: 0.9048\n"
     ]
    }
   ],
   "source": [
    "# Define the CNN model\n",
    "model = Sequential()\n",
    "model.add(Embedding(vocab_size, 100, weights=[embedding_matrix], input_length=max_length))\n",
    "model.add(Conv1D(128, 5, activation='tanh'))\n",
    "model.add(MaxPool1D(5))\n",
    "model.add(Conv1D(128, 5, activation='tanh'))\n",
    "model.add(MaxPool1D(5))\n",
    "model.add(Dropout(0.2))\n",
    "model.add(Flatten())\n",
    "model.add(Dense(128, activation='tanh'))\n",
    "model.add(Dense(3, activation='softmax'))\n",
    "\n",
    "model.compile(optimizer='adam', loss='categorical_crossentropy', metrics=['accuracy'])\n",
    "\n",
    "#the number of epoch was higher, but I reduced to optimal (Unfortunately I did not install early stopp callback)\n",
    "\n",
    "training_history_2=model.fit(X_train, y_train, epochs=15, batch_size=50, validation_data=(X_test, y_test))"
   ]
  },
  {
   "cell_type": "code",
   "execution_count": 25,
   "id": "02fc9f4c",
   "metadata": {},
   "outputs": [],
   "source": [
    "train_acc = training_history_2.history['accuracy']\n",
    "val_acc = training_history_2.history['val_accuracy']\n",
    "train_loss=training_history_2.history['loss']\n",
    "val_loss = training_history_2.history['val_loss']"
   ]
  },
  {
   "cell_type": "code",
   "execution_count": 27,
   "id": "2ccb1a03",
   "metadata": {},
   "outputs": [
    {
     "data": {
      "image/png": "[encoded data removed]",
      "text/plain": [
       "<Figure size 640x480 with 1 Axes>"
      ]
     },
     "metadata": {},
     "output_type": "display_data"
    }
   ],
   "source": [
    "\n",
    "plt.xlabel('Epochs')\n",
    "plt.ylabel('Accuracy/Loss')\n",
    "\n",
    "\n",
    "plt.plot(np.arange(1 , 16, 1),\n",
    "         training_history_2.history['accuracy'],\n",
    "         label = 'Training Accuracy',\n",
    "         color = 'blue')\n",
    "\n",
    "\n",
    "plt.plot(np.arange(1 , 16, 1),\n",
    "         training_history_2.history['val_accuracy'], \n",
    "         label = 'Validation Accuracy',\n",
    "         color = 'red')\n",
    "\n",
    "plt.plot(np.arange(1 , 16, 1),\n",
    "        training_history_2.history['loss'], \n",
    "        label = 'Training Loss',\n",
    "         color = 'green')\n",
    "plt.plot(np.arange(1 , 16, 1),\n",
    "         training_history_2.history['val_loss'], \n",
    "         label = 'Validation Loss',\n",
    "         color = 'orange')\n",
    "\n",
    "# Affichage de la légende\n",
    "plt.legend()\n",
    "\n",
    "# Affichage de la figure\n",
    "plt.show()b"
   ]
  },
  {
   "cell_type": "code",
   "execution_count": 28,
   "id": "0b348823",
   "metadata": {},
   "outputs": [
    {
     "name": "stdout",
     "output_type": "stream",
     "text": [
      "2038/2038 [==============================] - 7s 4ms/step\n",
      "Classifiation report of CNN\n",
      "               precision    recall  f1-score   support\n",
      "\n",
      "           0       0.87      0.89      0.88     15653\n",
      "           1       0.60      0.50      0.55      5012\n",
      "           2       0.95      0.96      0.95     44546\n",
      "\n",
      "    accuracy                           0.90     65211\n",
      "   macro avg       0.80      0.78      0.79     65211\n",
      "weighted avg       0.90      0.90      0.90     65211\n",
      "\n",
      "Confusion matrix of CNN:\n",
      "\n"
     ]
    },
    {
     "data": {
      "text/html": [
       "<div>\n",
       "<style scoped>\n",
       "    .dataframe tbody tr th:only-of-type {\n",
       "        vertical-align: middle;\n",
       "    }\n",
       "\n",
       "    .dataframe tbody tr th {\n",
       "        vertical-align: top;\n",
       "    }\n",
       "\n",
       "    .dataframe thead th {\n",
       "        text-align: right;\n",
       "    }\n",
       "</style>\n",
       "<table border=\"1\" class=\"dataframe\">\n",
       "  <thead>\n",
       "    <tr style=\"text-align: right;\">\n",
       "      <th>Predicted sentiment</th>\n",
       "      <th>0</th>\n",
       "      <th>1</th>\n",
       "      <th>2</th>\n",
       "    </tr>\n",
       "    <tr>\n",
       "      <th>Real sentiment</th>\n",
       "      <th></th>\n",
       "      <th></th>\n",
       "      <th></th>\n",
       "    </tr>\n",
       "  </thead>\n",
       "  <tbody>\n",
       "    <tr>\n",
       "      <th>0</th>\n",
       "      <td>13869</td>\n",
       "      <td>730</td>\n",
       "      <td>1054</td>\n",
       "    </tr>\n",
       "    <tr>\n",
       "      <th>1</th>\n",
       "      <td>1156</td>\n",
       "      <td>2516</td>\n",
       "      <td>1340</td>\n",
       "    </tr>\n",
       "    <tr>\n",
       "      <th>2</th>\n",
       "      <td>973</td>\n",
       "      <td>957</td>\n",
       "      <td>42616</td>\n",
       "    </tr>\n",
       "  </tbody>\n",
       "</table>\n",
       "</div>"
      ],
      "text/plain": [
       "Predicted sentiment      0     1      2\n",
       "Real sentiment                         \n",
       "0                    13869   730   1054\n",
       "1                     1156  2516   1340\n",
       "2                      973   957  42616"
      ]
     },
     "execution_count": 28,
     "metadata": {},
     "output_type": "execute_result"
    }
   ],
   "source": [
    "from sklearn.metrics import classification_report\n",
    "test_pred = model.predict(X_test)\n",
    "\n",
    "test_pred_class = test_pred.argmax(axis = 1)\n",
    "y_test_class = y_test.argmax(axis=1)\n",
    "\n",
    "print(\"Classifiation report of CNN\\n\", classification_report(y_test_class, test_pred_class))\n",
    "print(\"Confusion matrix of CNN:\\n\")\n",
    "\n",
    "pd.crosstab(y_test_class,test_pred_class, rownames=['Real sentiment'], colnames=['Predicted sentiment'])"
   ]
  },
  {
   "cell_type": "markdown",
   "id": "9489fad7",
   "metadata": {},
   "source": [
    "# Binary classification sentiment analysis"
   ]
  },
  {
   "cell_type": "code",
   "execution_count": 33,
   "id": "d28ad94a",
   "metadata": {},
   "outputs": [
    {
     "data": {
      "text/html": [
       "<div>\n",
       "<style scoped>\n",
       "    .dataframe tbody tr th:only-of-type {\n",
       "        vertical-align: middle;\n",
       "    }\n",
       "\n",
       "    .dataframe tbody tr th {\n",
       "        vertical-align: top;\n",
       "    }\n",
       "\n",
       "    .dataframe thead th {\n",
       "        text-align: right;\n",
       "    }\n",
       "</style>\n",
       "<table border=\"1\" class=\"dataframe\">\n",
       "  <thead>\n",
       "    <tr style=\"text-align: right;\">\n",
       "      <th></th>\n",
       "      <th>Product Name</th>\n",
       "      <th>Brand Name</th>\n",
       "      <th>Price</th>\n",
       "      <th>Stars</th>\n",
       "      <th>Text</th>\n",
       "      <th>Review Votes</th>\n",
       "      <th>AverageRating</th>\n",
       "      <th>ReviewsNumber</th>\n",
       "      <th>Sentiment</th>\n",
       "      <th>Review length</th>\n",
       "      <th>Word count</th>\n",
       "      <th>emoji</th>\n",
       "    </tr>\n",
       "  </thead>\n",
       "  <tbody>\n",
       "    <tr>\n",
       "      <th>0</th>\n",
       "      <td>\"CLEAR CLEAN ESN\" Sprint EPIC 4G Galaxy SPH-D7...</td>\n",
       "      <td>SAMSUNG</td>\n",
       "      <td>199.99</td>\n",
       "      <td>5</td>\n",
       "      <td>feel lucky found used phone us used hard phone...</td>\n",
       "      <td>1.0</td>\n",
       "      <td>3.702703</td>\n",
       "      <td>37</td>\n",
       "      <td>Positive</td>\n",
       "      <td>374</td>\n",
       "      <td>72</td>\n",
       "      <td>[]</td>\n",
       "    </tr>\n",
       "    <tr>\n",
       "      <th>1</th>\n",
       "      <td>\"CLEAR CLEAN ESN\" Sprint EPIC 4G Galaxy SPH-D7...</td>\n",
       "      <td>SAMSUNG</td>\n",
       "      <td>199.99</td>\n",
       "      <td>4</td>\n",
       "      <td>nice phone nice grade pantach revue clean set ...</td>\n",
       "      <td>0.0</td>\n",
       "      <td>3.702703</td>\n",
       "      <td>37</td>\n",
       "      <td>Positive</td>\n",
       "      <td>214</td>\n",
       "      <td>40</td>\n",
       "      <td>[]</td>\n",
       "    </tr>\n",
       "    <tr>\n",
       "      <th>2</th>\n",
       "      <td>\"CLEAR CLEAN ESN\" Sprint EPIC 4G Galaxy SPH-D7...</td>\n",
       "      <td>SAMSUNG</td>\n",
       "      <td>199.99</td>\n",
       "      <td>5</td>\n",
       "      <td>pleased</td>\n",
       "      <td>0.0</td>\n",
       "      <td>3.702703</td>\n",
       "      <td>37</td>\n",
       "      <td>Positive</td>\n",
       "      <td>12</td>\n",
       "      <td>2</td>\n",
       "      <td>[]</td>\n",
       "    </tr>\n",
       "    <tr>\n",
       "      <th>3</th>\n",
       "      <td>\"CLEAR CLEAN ESN\" Sprint EPIC 4G Galaxy SPH-D7...</td>\n",
       "      <td>SAMSUNG</td>\n",
       "      <td>199.99</td>\n",
       "      <td>4</td>\n",
       "      <td>works good goes slow sometimes good phone love</td>\n",
       "      <td>0.0</td>\n",
       "      <td>3.702703</td>\n",
       "      <td>37</td>\n",
       "      <td>Positive</td>\n",
       "      <td>76</td>\n",
       "      <td>17</td>\n",
       "      <td>[]</td>\n",
       "    </tr>\n",
       "    <tr>\n",
       "      <th>4</th>\n",
       "      <td>\"CLEAR CLEAN ESN\" Sprint EPIC 4G Galaxy SPH-D7...</td>\n",
       "      <td>SAMSUNG</td>\n",
       "      <td>199.99</td>\n",
       "      <td>4</td>\n",
       "      <td>great phone replace lost phone thing volume bu...</td>\n",
       "      <td>0.0</td>\n",
       "      <td>3.702703</td>\n",
       "      <td>37</td>\n",
       "      <td>Positive</td>\n",
       "      <td>223</td>\n",
       "      <td>43</td>\n",
       "      <td>[]</td>\n",
       "    </tr>\n",
       "  </tbody>\n",
       "</table>\n",
       "</div>"
      ],
      "text/plain": [
       "                                        Product Name Brand Name   Price  \\\n",
       "0  \"CLEAR CLEAN ESN\" Sprint EPIC 4G Galaxy SPH-D7...    SAMSUNG  199.99   \n",
       "1  \"CLEAR CLEAN ESN\" Sprint EPIC 4G Galaxy SPH-D7...    SAMSUNG  199.99   \n",
       "2  \"CLEAR CLEAN ESN\" Sprint EPIC 4G Galaxy SPH-D7...    SAMSUNG  199.99   \n",
       "3  \"CLEAR CLEAN ESN\" Sprint EPIC 4G Galaxy SPH-D7...    SAMSUNG  199.99   \n",
       "4  \"CLEAR CLEAN ESN\" Sprint EPIC 4G Galaxy SPH-D7...    SAMSUNG  199.99   \n",
       "\n",
       "   Stars                                               Text  Review Votes  \\\n",
       "0      5  feel lucky found used phone us used hard phone...           1.0   \n",
       "1      4  nice phone nice grade pantach revue clean set ...           0.0   \n",
       "2      5                                            pleased           0.0   \n",
       "3      4     works good goes slow sometimes good phone love           0.0   \n",
       "4      4  great phone replace lost phone thing volume bu...           0.0   \n",
       "\n",
       "   AverageRating  ReviewsNumber Sentiment  Review length  Word count emoji  \n",
       "0       3.702703             37  Positive            374          72    []  \n",
       "1       3.702703             37  Positive            214          40    []  \n",
       "2       3.702703             37  Positive             12           2    []  \n",
       "3       3.702703             37  Positive             76          17    []  \n",
       "4       3.702703             37  Positive            223          43    []  "
      ]
     },
     "execution_count": 33,
     "metadata": {},
     "output_type": "execute_result"
    }
   ],
   "source": [
    "df.head()"
   ]
  },
  {
   "cell_type": "code",
   "execution_count": 36,
   "id": "f8f46333",
   "metadata": {},
   "outputs": [],
   "source": [
    "#CNN for binary classification\n",
    "\n",
    "\n",
    "df_binary=df.loc[df.Sentiment!='Neutral']\n",
    "\n",
    "df_binary.to_csv('Supply_chain_binary_10_06.csv')\n"
   ]
  },
  {
   "cell_type": "code",
   "execution_count": 37,
   "id": "97a0157b",
   "metadata": {},
   "outputs": [],
   "source": [
    "df=pd.read_csv('Supply_chain_binary_10_06.csv')"
   ]
  },
  {
   "cell_type": "code",
   "execution_count": null,
   "id": "b56cd7b1",
   "metadata": {},
   "outputs": [],
   "source": []
  },
  {
   "cell_type": "code",
   "execution_count": 39,
   "id": "493abe73",
   "metadata": {},
   "outputs": [
    {
     "name": "stdout",
     "output_type": "stream",
     "text": [
      "Word2Vec<vocab=24596, vector_size=100, alpha=0.01>\n"
     ]
    }
   ],
   "source": [
    "model_binary= gensim.models.Word2Vec(window=10, \n",
    "                               min_count=5, \n",
    "                               workers=4, \n",
    "                               alpha=0.01,\n",
    "                               negative=20,\n",
    "                               sample=0.0001)\n",
    "review_text = df['Text'].apply(gensim.utils.simple_preprocess)\n",
    "model_binary.build_vocab(review_text, progress_per=10000)\n",
    "model_binary.train(review_text, total_examples=model_binary.corpus_count, epochs=50, report_delay=1)\n",
    "\n",
    "print(model_binary)"
   ]
  },
  {
   "cell_type": "code",
   "execution_count": 44,
   "id": "0b04cc33",
   "metadata": {},
   "outputs": [
    {
     "name": "stdout",
     "output_type": "stream",
     "text": [
      "[[209, 1765, 181, 34, 1, 128, 34, 220, 1, 503, 355, 747, 524, 5, 392, 477, 93, 5, 412, 1069, 1282, 212, 62, 65, 286, 2, 2, 184, 56, 13, 1455, 4088, 121, 34, 1068, 53, 56, 304, 12, 2, 2], [31, 1, 31, 3178, 701, 175, 67, 175, 73, 43, 1, 483, 397, 47, 96, 1641, 1201, 767, 3, 1]]\n"
     ]
    }
   ],
   "source": [
    "\n",
    "token = Tokenizer(24596)\n",
    "token.fit_on_texts(df['Text'])\n",
    "text = token.texts_to_sequences(df['Text'])\n",
    "\n",
    "print(text[:2])\n"
   ]
  },
  {
   "cell_type": "code",
   "execution_count": 70,
   "id": "cf72338c",
   "metadata": {},
   "outputs": [
    {
     "data": {
      "text/plain": [
       "(240796,)"
      ]
     },
     "execution_count": 70,
     "metadata": {},
     "output_type": "execute_result"
    }
   ],
   "source": [
    "\n",
    "X_train, X_test, y_train, y_test = train_test_split(text, df.Sentiment, test_size=0.2, stratify=df.Sentiment)\n",
    "\n",
    "\n",
    "y_train.shape"
   ]
  },
  {
   "cell_type": "code",
   "execution_count": 71,
   "id": "1bfa6fdc",
   "metadata": {},
   "outputs": [],
   "source": [
    "y_test=y_test.str.get_dummies(sep='*')"
   ]
  },
  {
   "cell_type": "code",
   "execution_count": 72,
   "id": "bd4f00f1",
   "metadata": {},
   "outputs": [],
   "source": [
    "y_train=y_train.str.get_dummies(sep='*')"
   ]
  },
  {
   "cell_type": "code",
   "execution_count": 73,
   "id": "5d153be8",
   "metadata": {},
   "outputs": [
    {
     "data": {
      "text/plain": [
       "(240796, 2)"
      ]
     },
     "execution_count": 73,
     "metadata": {},
     "output_type": "execute_result"
    }
   ],
   "source": [
    "y_train.shape"
   ]
  },
  {
   "cell_type": "code",
   "execution_count": 74,
   "id": "4ec89106",
   "metadata": {},
   "outputs": [],
   "source": [
    "\n",
    "\n",
    "max_length = 100\n",
    "X_train = pad_sequences(X_train, maxlen=max_length, padding='post')\n",
    "X_test = pad_sequences(X_test, maxlen=max_length, padding='post')\n",
    "vocab_size = len(token.word_index) + 1\n",
    "\n",
    "embedding_matrix = np.zeros((vocab_size, 100))\n",
    "for word, i in token.word_index.items():\n",
    "    if word in model_binary.wv:\n",
    "        embedding_matrix[i] = model_binary.wv[word]"
   ]
  },
  {
   "cell_type": "code",
   "execution_count": 75,
   "id": "050397f0",
   "metadata": {},
   "outputs": [
    {
     "name": "stdout",
     "output_type": "stream",
     "text": [
      "Epoch 1/5\n",
      "964/964 [==============================] - 77s 79ms/step - loss: 0.2106 - accuracy: 0.9188 - val_loss: 0.1673 - val_accuracy: 0.9368\n",
      "Epoch 2/5\n",
      "964/964 [==============================] - 69s 72ms/step - loss: 0.1578 - accuracy: 0.9416 - val_loss: 0.1485 - val_accuracy: 0.9468\n",
      "Epoch 3/5\n",
      "964/964 [==============================] - 70s 72ms/step - loss: 0.1340 - accuracy: 0.9519 - val_loss: 0.1336 - val_accuracy: 0.9523\n",
      "Epoch 4/5\n",
      "964/964 [==============================] - 70s 73ms/step - loss: 0.1148 - accuracy: 0.9600 - val_loss: 0.1445 - val_accuracy: 0.9499\n",
      "Epoch 5/5\n",
      "964/964 [==============================] - 69s 72ms/step - loss: 0.1005 - accuracy: 0.9658 - val_loss: 0.1205 - val_accuracy: 0.9593\n"
     ]
    }
   ],
   "source": [
    "\n",
    "\n",
    "model = Sequential()\n",
    "model.add(Embedding(vocab_size, 100, weights=[embedding_matrix], input_length=max_length))\n",
    "model.add(Conv1D(128, 5, activation='relu'))\n",
    "\n",
    "model.add(MaxPool1D(5))\n",
    "model.add(Dropout(0.2))\n",
    "model.add(Conv1D(128, 5, activation='relu'))\n",
    "\n",
    "model.add(MaxPool1D(5))\n",
    "model.add(Dropout(0.2))\n",
    "model.add(Flatten())\n",
    "model.add(Dense(128, activation='relu'))\n",
    "\n",
    "model.add(Dense(2, activation='sigmoid'))\n",
    "\n",
    "model.compile(optimizer='adam', loss='binary_crossentropy', metrics=['accuracy'])\n",
    "training_history_3=model.fit(X_train, y_train, epochs=5, batch_size=250, validation_data=(X_test, y_test))"
   ]
  },
  {
   "cell_type": "code",
   "execution_count": 76,
   "id": "596299fb",
   "metadata": {},
   "outputs": [
    {
     "data": {
      "image/png": "[encoded data removed]",
      "text/plain": [
       "<Figure size 640x480 with 1 Axes>"
      ]
     },
     "metadata": {},
     "output_type": "display_data"
    }
   ],
   "source": [
    "train_acc = training_history_3.history['accuracy']\n",
    "val_acc = training_history_3.history['val_accuracy']\n",
    "train_loss=training_history_3.history['loss']\n",
    "val_loss = training_history_3.history['val_loss']\n",
    "\n",
    "\n",
    "# Label the axis\n",
    "plt.xlabel('Epochs')\n",
    "plt.ylabel('Accuracy/Loss')\n",
    "\n",
    "# accuracy for training set\n",
    "plt.plot(np.arange(1 , 6, 1),\n",
    "         training_history_3.history['accuracy'],\n",
    "         label = 'Training Accuracy',\n",
    "         color = 'blue')\n",
    "\n",
    "# accuracy for test set\n",
    "plt.plot(np.arange(1 ,6, 1),\n",
    "         training_history_3.history['val_accuracy'], \n",
    "         label = 'Validation Accuracy',\n",
    "         color = 'red')\n",
    "\n",
    "plt.plot(np.arange(1 ,6, 1),\n",
    "        training_history_3.history['loss'], \n",
    "        label = 'Training Loss',\n",
    "         color = 'green')\n",
    "plt.plot(np.arange(1 ,6, 1),\n",
    "         training_history_3.history['val_loss'], \n",
    "         label = 'Validation Loss',\n",
    "         color = 'orange')\n",
    "\n",
    "# Affichage de la légende\n",
    "plt.legend()\n",
    "\n",
    "# Affichage de la figure\n",
    "plt.show()"
   ]
  },
  {
   "cell_type": "code",
   "execution_count": 85,
   "id": "cdc433ae",
   "metadata": {},
   "outputs": [
    {
     "name": "stdout",
     "output_type": "stream",
     "text": [
      "1882/1882 [==============================] - 5s 3ms/step\n",
      "Classifiation report of CNN:\n",
      "               precision    recall  f1-score   support\n",
      "\n",
      "           0       0.92      0.92      0.92     15653\n",
      "           1       0.97      0.97      0.97     44546\n",
      "\n",
      "    accuracy                           0.96     60199\n",
      "   macro avg       0.95      0.95      0.95     60199\n",
      "weighted avg       0.96      0.96      0.96     60199\n",
      "\n",
      "Confusion matrix of CNN:\n",
      "\n"
     ]
    },
    {
     "data": {
      "text/html": [
       "<div>\n",
       "<style scoped>\n",
       "    .dataframe tbody tr th:only-of-type {\n",
       "        vertical-align: middle;\n",
       "    }\n",
       "\n",
       "    .dataframe tbody tr th {\n",
       "        vertical-align: top;\n",
       "    }\n",
       "\n",
       "    .dataframe thead th {\n",
       "        text-align: right;\n",
       "    }\n",
       "</style>\n",
       "<table border=\"1\" class=\"dataframe\">\n",
       "  <thead>\n",
       "    <tr style=\"text-align: right;\">\n",
       "      <th>Predicted sentiment</th>\n",
       "      <th>0</th>\n",
       "      <th>1</th>\n",
       "    </tr>\n",
       "    <tr>\n",
       "      <th>Real sentiment</th>\n",
       "      <th></th>\n",
       "      <th></th>\n",
       "    </tr>\n",
       "  </thead>\n",
       "  <tbody>\n",
       "    <tr>\n",
       "      <th>0</th>\n",
       "      <td>14376</td>\n",
       "      <td>1277</td>\n",
       "    </tr>\n",
       "    <tr>\n",
       "      <th>1</th>\n",
       "      <td>1176</td>\n",
       "      <td>43370</td>\n",
       "    </tr>\n",
       "  </tbody>\n",
       "</table>\n",
       "</div>"
      ],
      "text/plain": [
       "Predicted sentiment      0      1\n",
       "Real sentiment                   \n",
       "0                    14376   1277\n",
       "1                     1176  43370"
      ]
     },
     "execution_count": 85,
     "metadata": {},
     "output_type": "execute_result"
    }
   ],
   "source": [
    "\n",
    "test_pred = model.predict(X_test)\n",
    "\n",
    "#test_pred_class = test_pred.argmax(axis = 1)\n",
    "#y_test_class = y_test().argmax(axis=1)\n",
    "\n",
    "print(\"Classifiation report of CNN:\\n\", metrics.classification_report(np.argmax(y_test,axis=1), np.argmax(test_pred, axis=1)))\n",
    "print(\"Confusion matrix of CNN:\\n\")\n",
    "\n",
    "pd.crosstab(np.argmax(y_test, axis=1), np.argmax(test_pred, axis=1), rownames=['Real sentiment'], colnames=['Predicted sentiment'])\n"
   ]
  },
  {
   "cell_type": "code",
   "execution_count": 86,
   "id": "87957b8e",
   "metadata": {},
   "outputs": [
    {
     "data": {
      "text/plain": [
       "['cnn_binary.pkl']"
      ]
     },
     "execution_count": 86,
     "metadata": {},
     "output_type": "execute_result"
    }
   ],
   "source": [
    "import joblib\n",
    "\n",
    "# save\n",
    "joblib.dump(model, \"cnn_binary.pkl\") "
   ]
  },
  {
   "cell_type": "code",
   "execution_count": null,
   "id": "779f205f",
   "metadata": {},
   "outputs": [],
   "source": []
  },
  {
   "cell_type": "code",
   "execution_count": null,
   "id": "59f080ff",
   "metadata": {},
   "outputs": [],
   "source": []
  },
  {
   "cell_type": "code",
   "execution_count": null,
   "id": "0af12f7f",
   "metadata": {},
   "outputs": [],
   "source": []
  }
 ],
 "metadata": {
  "kernelspec": {
   "display_name": "Python 3 (ipykernel)",
   "language": "python",
   "name": "python3"
  },
  "language_info": {
   "codemirror_mode": {
    "name": "ipython",
    "version": 3
   },
   "file_extension": ".py",
   "mimetype": "text/x-python",
   "name": "python",
   "nbconvert_exporter": "python",
   "pygments_lexer": "ipython3",
   "version": "3.11.5"
  }
 },
 "nbformat": 4,
 "nbformat_minor": 5
}
